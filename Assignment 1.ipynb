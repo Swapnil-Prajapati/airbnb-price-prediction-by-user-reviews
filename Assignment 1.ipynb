{
 "cells": [
  {
   "cell_type": "code",
   "execution_count": 82,
   "id": "70c72cf7",
   "metadata": {},
   "outputs": [
    {
     "data": {
      "text/html": [
       "        <script type=\"text/javascript\">\n",
       "        window.PlotlyConfig = {MathJaxConfig: 'local'};\n",
       "        if (window.MathJax) {MathJax.Hub.Config({SVG: {font: \"STIX-Web\"}});}\n",
       "        if (typeof require !== 'undefined') {\n",
       "        require.undef(\"plotly\");\n",
       "        requirejs.config({\n",
       "            paths: {\n",
       "                'plotly': ['https://cdn.plot.ly/plotly-2.8.3.min']\n",
       "            }\n",
       "        });\n",
       "        require(['plotly'], function(Plotly) {\n",
       "            window._Plotly = Plotly;\n",
       "        });\n",
       "        }\n",
       "        </script>\n",
       "        "
      ]
     },
     "metadata": {},
     "output_type": "display_data"
    }
   ],
   "source": [
    "import pandas as pd\n",
    "import nltk\n",
    "import warnings\n",
    "import warnings\n",
    "warnings.filterwarnings(\"ignore\", category=pd.core.common.SettingWithCopyWarning)\n",
    "import re\n",
    "from sklearn.feature_extraction.text import TfidfVectorizer\n",
    "import string\n",
    "import matplotlib.pyplot as plt\n",
    "import seaborn as sns\n",
    "sns.set()\n",
    "from collections import Counter\n",
    "\n",
    "# Plotly imports\n",
    "import plotly.offline as py\n",
    "py.init_notebook_mode(connected=True)\n",
    "import plotly.graph_objs as go\n",
    "import plotly.tools as tls\n"
   ]
  },
  {
   "cell_type": "code",
   "execution_count": 117,
   "id": "961a1397",
   "metadata": {},
   "outputs": [],
   "source": [
    "stopwords = nltk.corpus.stopwords.words('english')\n",
    "ps = nltk.PorterStemmer()"
   ]
  },
  {
   "cell_type": "markdown",
   "id": "bfbcca61",
   "metadata": {},
   "source": [
    "### Reading the data "
   ]
  },
  {
   "cell_type": "code",
   "execution_count": 44,
   "id": "fee57e0d",
   "metadata": {},
   "outputs": [
    {
     "data": {
      "text/html": [
       "<div>\n",
       "<style scoped>\n",
       "    .dataframe tbody tr th:only-of-type {\n",
       "        vertical-align: middle;\n",
       "    }\n",
       "\n",
       "    .dataframe tbody tr th {\n",
       "        vertical-align: top;\n",
       "    }\n",
       "\n",
       "    .dataframe thead th {\n",
       "        text-align: right;\n",
       "    }\n",
       "</style>\n",
       "<table border=\"1\" class=\"dataframe\">\n",
       "  <thead>\n",
       "    <tr style=\"text-align: right;\">\n",
       "      <th></th>\n",
       "      <th>id</th>\n",
       "      <th>listing_url</th>\n",
       "      <th>scrape_id</th>\n",
       "      <th>last_scraped</th>\n",
       "      <th>source</th>\n",
       "      <th>name</th>\n",
       "      <th>description</th>\n",
       "      <th>neighborhood_overview</th>\n",
       "      <th>picture_url</th>\n",
       "      <th>host_id</th>\n",
       "      <th>...</th>\n",
       "      <th>review_scores_communication</th>\n",
       "      <th>review_scores_location</th>\n",
       "      <th>review_scores_value</th>\n",
       "      <th>license</th>\n",
       "      <th>instant_bookable</th>\n",
       "      <th>calculated_host_listings_count</th>\n",
       "      <th>calculated_host_listings_count_entire_homes</th>\n",
       "      <th>calculated_host_listings_count_private_rooms</th>\n",
       "      <th>calculated_host_listings_count_shared_rooms</th>\n",
       "      <th>reviews_per_month</th>\n",
       "    </tr>\n",
       "  </thead>\n",
       "  <tbody>\n",
       "    <tr>\n",
       "      <th>0</th>\n",
       "      <td>1419</td>\n",
       "      <td>https://www.airbnb.com/rooms/1419</td>\n",
       "      <td>20230309202131</td>\n",
       "      <td>2023-03-10</td>\n",
       "      <td>previous scrape</td>\n",
       "      <td>Beautiful home in amazing area!</td>\n",
       "      <td>This large, family home is located in one of T...</td>\n",
       "      <td>The apartment is located in the Ossington stri...</td>\n",
       "      <td>https://a0.muscache.com/pictures/76206750/d643...</td>\n",
       "      <td>1565</td>\n",
       "      <td>...</td>\n",
       "      <td>5.00</td>\n",
       "      <td>5.00</td>\n",
       "      <td>5.00</td>\n",
       "      <td>NaN</td>\n",
       "      <td>f</td>\n",
       "      <td>1</td>\n",
       "      <td>1</td>\n",
       "      <td>0</td>\n",
       "      <td>0</td>\n",
       "      <td>0.08</td>\n",
       "    </tr>\n",
       "    <tr>\n",
       "      <th>1</th>\n",
       "      <td>8077</td>\n",
       "      <td>https://www.airbnb.com/rooms/8077</td>\n",
       "      <td>20230309202131</td>\n",
       "      <td>2023-03-10</td>\n",
       "      <td>city scrape</td>\n",
       "      <td>Downtown Harbourfront Private Room</td>\n",
       "      <td>Guest room in a luxury condo with access to al...</td>\n",
       "      <td>NaN</td>\n",
       "      <td>https://a0.muscache.com/pictures/11780344/141c...</td>\n",
       "      <td>22795</td>\n",
       "      <td>...</td>\n",
       "      <td>4.90</td>\n",
       "      <td>4.92</td>\n",
       "      <td>4.83</td>\n",
       "      <td>NaN</td>\n",
       "      <td>t</td>\n",
       "      <td>2</td>\n",
       "      <td>1</td>\n",
       "      <td>1</td>\n",
       "      <td>0</td>\n",
       "      <td>1.02</td>\n",
       "    </tr>\n",
       "    <tr>\n",
       "      <th>2</th>\n",
       "      <td>26654</td>\n",
       "      <td>https://www.airbnb.com/rooms/26654</td>\n",
       "      <td>20230309202131</td>\n",
       "      <td>2023-03-10</td>\n",
       "      <td>city scrape</td>\n",
       "      <td>World Class downtown @CN Tower Theatre MTCC ga...</td>\n",
       "      <td>CN Tower, TIFF Bell Lightbox, Metro Convention...</td>\n",
       "      <td>There's a reason they call it the Entertainmen...</td>\n",
       "      <td>https://a0.muscache.com/pictures/81811785/5dcd...</td>\n",
       "      <td>113345</td>\n",
       "      <td>...</td>\n",
       "      <td>4.75</td>\n",
       "      <td>4.85</td>\n",
       "      <td>4.65</td>\n",
       "      <td>NaN</td>\n",
       "      <td>f</td>\n",
       "      <td>3</td>\n",
       "      <td>3</td>\n",
       "      <td>0</td>\n",
       "      <td>0</td>\n",
       "      <td>0.28</td>\n",
       "    </tr>\n",
       "    <tr>\n",
       "      <th>3</th>\n",
       "      <td>40456</td>\n",
       "      <td>https://www.airbnb.com/rooms/40456</td>\n",
       "      <td>20230309202131</td>\n",
       "      <td>2023-03-10</td>\n",
       "      <td>city scrape</td>\n",
       "      <td>Downtown- King Size Bed and Parking</td>\n",
       "      <td>---------------------Renovated  and Newly Furn...</td>\n",
       "      <td>This is Nice Neighborhood located in Downtown ...</td>\n",
       "      <td>https://a0.muscache.com/pictures/b36b6ae3-20aa...</td>\n",
       "      <td>174063</td>\n",
       "      <td>...</td>\n",
       "      <td>4.96</td>\n",
       "      <td>4.57</td>\n",
       "      <td>4.68</td>\n",
       "      <td>NaN</td>\n",
       "      <td>f</td>\n",
       "      <td>4</td>\n",
       "      <td>4</td>\n",
       "      <td>0</td>\n",
       "      <td>0</td>\n",
       "      <td>0.74</td>\n",
       "    </tr>\n",
       "    <tr>\n",
       "      <th>4</th>\n",
       "      <td>27423</td>\n",
       "      <td>https://www.airbnb.com/rooms/27423</td>\n",
       "      <td>20230309202131</td>\n",
       "      <td>2023-03-10</td>\n",
       "      <td>city scrape</td>\n",
       "      <td>Executive Studio Unit- Ideal for One Person</td>\n",
       "      <td>Brand new, fully furnished studio basement apa...</td>\n",
       "      <td>NaN</td>\n",
       "      <td>https://a0.muscache.com/pictures/176936/b687ed...</td>\n",
       "      <td>118124</td>\n",
       "      <td>...</td>\n",
       "      <td>5.00</td>\n",
       "      <td>4.83</td>\n",
       "      <td>4.83</td>\n",
       "      <td>NaN</td>\n",
       "      <td>f</td>\n",
       "      <td>1</td>\n",
       "      <td>1</td>\n",
       "      <td>0</td>\n",
       "      <td>0</td>\n",
       "      <td>0.17</td>\n",
       "    </tr>\n",
       "  </tbody>\n",
       "</table>\n",
       "<p>5 rows × 75 columns</p>\n",
       "</div>"
      ],
      "text/plain": [
       "      id                         listing_url       scrape_id last_scraped  \\\n",
       "0   1419   https://www.airbnb.com/rooms/1419  20230309202131   2023-03-10   \n",
       "1   8077   https://www.airbnb.com/rooms/8077  20230309202131   2023-03-10   \n",
       "2  26654  https://www.airbnb.com/rooms/26654  20230309202131   2023-03-10   \n",
       "3  40456  https://www.airbnb.com/rooms/40456  20230309202131   2023-03-10   \n",
       "4  27423  https://www.airbnb.com/rooms/27423  20230309202131   2023-03-10   \n",
       "\n",
       "            source                                               name  \\\n",
       "0  previous scrape                    Beautiful home in amazing area!   \n",
       "1      city scrape                 Downtown Harbourfront Private Room   \n",
       "2      city scrape  World Class downtown @CN Tower Theatre MTCC ga...   \n",
       "3      city scrape                Downtown- King Size Bed and Parking   \n",
       "4      city scrape        Executive Studio Unit- Ideal for One Person   \n",
       "\n",
       "                                         description  \\\n",
       "0  This large, family home is located in one of T...   \n",
       "1  Guest room in a luxury condo with access to al...   \n",
       "2  CN Tower, TIFF Bell Lightbox, Metro Convention...   \n",
       "3  ---------------------Renovated  and Newly Furn...   \n",
       "4  Brand new, fully furnished studio basement apa...   \n",
       "\n",
       "                               neighborhood_overview  \\\n",
       "0  The apartment is located in the Ossington stri...   \n",
       "1                                                NaN   \n",
       "2  There's a reason they call it the Entertainmen...   \n",
       "3  This is Nice Neighborhood located in Downtown ...   \n",
       "4                                                NaN   \n",
       "\n",
       "                                         picture_url  host_id  ...  \\\n",
       "0  https://a0.muscache.com/pictures/76206750/d643...     1565  ...   \n",
       "1  https://a0.muscache.com/pictures/11780344/141c...    22795  ...   \n",
       "2  https://a0.muscache.com/pictures/81811785/5dcd...   113345  ...   \n",
       "3  https://a0.muscache.com/pictures/b36b6ae3-20aa...   174063  ...   \n",
       "4  https://a0.muscache.com/pictures/176936/b687ed...   118124  ...   \n",
       "\n",
       "  review_scores_communication review_scores_location review_scores_value  \\\n",
       "0                        5.00                   5.00                5.00   \n",
       "1                        4.90                   4.92                4.83   \n",
       "2                        4.75                   4.85                4.65   \n",
       "3                        4.96                   4.57                4.68   \n",
       "4                        5.00                   4.83                4.83   \n",
       "\n",
       "  license instant_bookable calculated_host_listings_count  \\\n",
       "0     NaN                f                              1   \n",
       "1     NaN                t                              2   \n",
       "2     NaN                f                              3   \n",
       "3     NaN                f                              4   \n",
       "4     NaN                f                              1   \n",
       "\n",
       "  calculated_host_listings_count_entire_homes  \\\n",
       "0                                           1   \n",
       "1                                           1   \n",
       "2                                           3   \n",
       "3                                           4   \n",
       "4                                           1   \n",
       "\n",
       "  calculated_host_listings_count_private_rooms  \\\n",
       "0                                            0   \n",
       "1                                            1   \n",
       "2                                            0   \n",
       "3                                            0   \n",
       "4                                            0   \n",
       "\n",
       "  calculated_host_listings_count_shared_rooms reviews_per_month  \n",
       "0                                           0              0.08  \n",
       "1                                           0              1.02  \n",
       "2                                           0              0.28  \n",
       "3                                           0              0.74  \n",
       "4                                           0              0.17  \n",
       "\n",
       "[5 rows x 75 columns]"
      ]
     },
     "execution_count": 44,
     "metadata": {},
     "output_type": "execute_result"
    }
   ],
   "source": [
    "df = pd.read_csv(\"listings.csv\")\n",
    "df.head()"
   ]
  },
  {
   "cell_type": "markdown",
   "id": "20c55440",
   "metadata": {},
   "source": [
    "### Objective:\n",
    "\n",
    "##### We wil try to predict the Price of the listing by the Given description. By Getting Answer of the following questions.\n",
    "\n",
    "Question 1: How does the amount of description for a listing affect the price of a listing?\n",
    "\n",
    "The quantity of description for a listing can potentially influence its price. While individual preferences may vary, the number of description can provide insights into the popularity and perceived value of a property. Typically, a higher number of description suggests a higher level details about the listings. This increased attention could potentially lead to a higher demand, which could be reflected in a higher price.\n",
    "\n",
    "Moreover, the number of description can also contribute to building trust and credibility. Guests often rely on description to assess the quality and reliability of a property.\n",
    "t\n",
    "It's important to note that various factors can impact the price of a listing, and the number of description is just one of them. Other factors such as location, amenities, size, and market dynamics also play a significant role in determining the price of a property.\n",
    "\n",
    "Question 2: Can we predict the price of a property based on the given descriptions?\n",
    "\n",
    "Predicting the price of a property solely based on descriptions can be challenging. While descriptions provide valuable insights into listing itself,typically focus on aspects such as the quality of service, room size, amenities etc. These subjective factors are crucial, but may not directly correlate with the monetary value or pricing of a property.\n",
    "\n",
    "To predict the price of a property accurately, it is necessary to consider a wide range of factors, including but not limited to location, property size, amenities, market conditions, and historical pricing data. Machine learning models can be employed to analyze various features and their impact on the price to generate predictions. However, relying solely on descriptions may not provide a comprehensive view for accurate price prediction.\n",
    "\n",
    "While Airbnb and other platforms may leverage descriptions as part of their pricing algorithms, they typically incorporate multiple data points to estimate the optimal price for a listing. These algorithms often take into account factors like demand, seasonality, location, and historical booking patterns, in addition to descriptions."
   ]
  },
  {
   "cell_type": "code",
   "execution_count": 45,
   "id": "7627b8ee",
   "metadata": {},
   "outputs": [
    {
     "data": {
      "text/html": [
       "<div>\n",
       "<style scoped>\n",
       "    .dataframe tbody tr th:only-of-type {\n",
       "        vertical-align: middle;\n",
       "    }\n",
       "\n",
       "    .dataframe tbody tr th {\n",
       "        vertical-align: top;\n",
       "    }\n",
       "\n",
       "    .dataframe thead th {\n",
       "        text-align: right;\n",
       "    }\n",
       "</style>\n",
       "<table border=\"1\" class=\"dataframe\">\n",
       "  <thead>\n",
       "    <tr style=\"text-align: right;\">\n",
       "      <th></th>\n",
       "      <th>description</th>\n",
       "      <th>price</th>\n",
       "    </tr>\n",
       "  </thead>\n",
       "  <tbody>\n",
       "    <tr>\n",
       "      <th>0</th>\n",
       "      <td>This large, family home is located in one of T...</td>\n",
       "      <td>$469.00</td>\n",
       "    </tr>\n",
       "    <tr>\n",
       "      <th>1</th>\n",
       "      <td>Guest room in a luxury condo with access to al...</td>\n",
       "      <td>$104.00</td>\n",
       "    </tr>\n",
       "    <tr>\n",
       "      <th>2</th>\n",
       "      <td>CN Tower, TIFF Bell Lightbox, Metro Convention...</td>\n",
       "      <td>$145.00</td>\n",
       "    </tr>\n",
       "    <tr>\n",
       "      <th>3</th>\n",
       "      <td>---------------------Renovated  and Newly Furn...</td>\n",
       "      <td>$150.00</td>\n",
       "    </tr>\n",
       "    <tr>\n",
       "      <th>4</th>\n",
       "      <td>Brand new, fully furnished studio basement apa...</td>\n",
       "      <td>$45.00</td>\n",
       "    </tr>\n",
       "  </tbody>\n",
       "</table>\n",
       "</div>"
      ],
      "text/plain": [
       "                                         description    price\n",
       "0  This large, family home is located in one of T...  $469.00\n",
       "1  Guest room in a luxury condo with access to al...  $104.00\n",
       "2  CN Tower, TIFF Bell Lightbox, Metro Convention...  $145.00\n",
       "3  ---------------------Renovated  and Newly Furn...  $150.00\n",
       "4  Brand new, fully furnished studio basement apa...   $45.00"
      ]
     },
     "execution_count": 45,
     "metadata": {},
     "output_type": "execute_result"
    }
   ],
   "source": [
    "airbnb = df[['description','price']] # here we try to predict price with given description\n",
    "airbnb.head()"
   ]
  },
  {
   "cell_type": "code",
   "execution_count": 46,
   "id": "65638fe7",
   "metadata": {},
   "outputs": [
    {
     "name": "stdout",
     "output_type": "stream",
     "text": [
      "<class 'pandas.core.frame.DataFrame'>\n",
      "RangeIndex: 17997 entries, 0 to 17996\n",
      "Data columns (total 2 columns):\n",
      " #   Column       Non-Null Count  Dtype \n",
      "---  ------       --------------  ----- \n",
      " 0   description  17751 non-null  object\n",
      " 1   price        17997 non-null  object\n",
      "dtypes: object(2)\n",
      "memory usage: 281.3+ KB\n"
     ]
    }
   ],
   "source": [
    "airbnb.info()"
   ]
  },
  {
   "cell_type": "code",
   "execution_count": 47,
   "id": "11ff788c",
   "metadata": {},
   "outputs": [],
   "source": [
    "import string\n",
    "def count_punct(text): # function that counts the % of punctuation in the description\n",
    "    if isinstance(text, str):\n",
    "        count = sum([1 for char in text if char in string.punctuation])\n",
    "        return round(count / (len(text) - text.count(\" \")), 3) * 100\n",
    "    else:\n",
    "        return 0\n",
    "\n",
    "# making 2 new features description length and punctuation percentage in description.\n",
    "airbnb.loc[:, 'desc_len'] = airbnb['description'].apply(lambda x: len(x) - x.count(\" \") if isinstance(x, str) else 0)\n",
    "airbnb.loc[:, 'punct%'] = airbnb['description'].apply(lambda x: count_punct(x))"
   ]
  },
  {
   "cell_type": "code",
   "execution_count": 48,
   "id": "fb355cc8",
   "metadata": {},
   "outputs": [
    {
     "data": {
      "text/plain": [
       "array(['$469.00', '$104.00', '$145.00', '$150.00', '$45.00', '$90.00',\n",
       "       '$100.00', '$142.00', '$185.00', '$170.00', '$138.00', '$83.00',\n",
       "       '$485.00', '$60.00', '$160.00', '$126.00', '$79.00', '$140.00',\n",
       "       '$105.00', '$55.00', '$91.00', '$214.00', '$96.00', '$130.00',\n",
       "       '$139.00', '$40.00', '$66.00', '$189.00', '$520.00', '$128.00',\n",
       "       '$86.00', '$80.00', '$125.00', '$200.00', '$169.00', '$73.00',\n",
       "       '$144.00', '$219.00', '$300.00', '$221.00', '$166.00', '$92.00',\n",
       "       '$175.00', '$329.00', '$207.00', '$70.00', '$134.00', '$95.00',\n",
       "       '$88.00', '$120.00', '$75.00', '$311.00', '$1,021.00', '$85.00',\n",
       "       '$109.00', '$76.00', '$141.00', '$74.00', '$49.00', '$93.00',\n",
       "       '$184.00', '$250.00', '$58.00', '$196.00', '$118.00', '$225.00',\n",
       "       '$304.00', '$31.00', '$260.00', '$187.00', '$463.00', '$264.00',\n",
       "       '$361.00', '$50.00', '$249.00', '$89.00', '$389.00', '$72.00',\n",
       "       '$116.00', '$380.00', '$97.00', '$33.00', '$267.00', '$110.00',\n",
       "       '$299.00', '$115.00', '$106.00', '$68.00', '$59.00', '$108.00',\n",
       "       '$101.00', '$358.00', '$295.00', '$226.00', '$199.00', '$119.00',\n",
       "       '$102.00', '$621.00', '$71.00', '$259.00', '$38.00', '$450.00',\n",
       "       '$552.00', '$449.00', '$37.00', '$343.00', '$65.00', '$190.00',\n",
       "       '$375.00', '$255.00', '$159.00', '$186.00', '$275.00', '$69.00',\n",
       "       '$143.00', '$220.00', '$77.00', '$152.00', '$163.00', '$57.00',\n",
       "       '$136.00', '$245.00', '$201.00', '$99.00', '$54.00', '$582.00',\n",
       "       '$480.00', '$121.00', '$398.00', '$180.00', '$212.00', '$315.00',\n",
       "       '$229.00', '$179.00', '$211.00', '$129.00', '$486.00', '$600.00',\n",
       "       '$499.00', '$155.00', '$122.00', '$39.00', '$248.00', '$195.00',\n",
       "       '$30.00', '$230.00', '$475.00', '$165.00', '$61.00', '$320.00',\n",
       "       '$350.00', '$228.00', '$515.00', '$293.00', '$32.00', '$41.00',\n",
       "       '$137.00', '$907.00', '$399.00', '$714.00', '$246.00', '$1,000.00',\n",
       "       '$256.00', '$598.00', '$549.00', '$123.00', '$395.00', '$897.00',\n",
       "       '$149.00', '$78.00', '$280.00', '$799.00', '$64.00', '$279.00',\n",
       "       '$84.00', '$243.00', '$413.00', '$127.00', '$239.00', '$148.00',\n",
       "       '$62.00', '$227.00', '$131.00', '$173.00', '$178.00', '$852.00',\n",
       "       '$182.00', '$414.00', '$198.00', '$900.00', '$888.00', '$247.00',\n",
       "       '$325.00', '$895.00', '$29.00', '$446.00', '$263.00', '$82.00',\n",
       "       '$307.00', '$81.00', '$297.00', '$270.00', '$132.00', '$194.00',\n",
       "       '$240.00', '$276.00', '$192.00', '$146.00', '$659.00', '$87.00',\n",
       "       '$492.00', '$167.00', '$135.00', '$208.00', '$580.00', '$188.00',\n",
       "       '$35.00', '$830.00', '$124.00', '$378.00', '$210.00', '$111.00',\n",
       "       '$365.00', '$43.00', '$51.00', '$400.00', '$282.00', '$318.00',\n",
       "       '$1,450.00', '$500.00', '$98.00', '$133.00', '$510.00', '$266.00',\n",
       "       '$94.00', '$112.00', '$193.00', '$291.00', '$172.00', '$261.00',\n",
       "       '$42.00', '$719.00', '$999.00', '$236.00', '$599.00', '$183.00',\n",
       "       '$222.00', '$46.00', '$114.00', '$419.00', '$421.00', '$25.00',\n",
       "       '$1,200.00', '$1,300.00', '$285.00', '$202.00', '$750.00',\n",
       "       '$113.00', '$712.00', '$349.00', '$117.00', '$204.00', '$290.00',\n",
       "       '$893.00', '$334.00', '$157.00', '$2,142.00', '$191.00', '$197.00',\n",
       "       '$23.00', '$1,500.00', '$215.00', '$213.00', '$848.00', '$176.00',\n",
       "       '$339.00', '$151.00', '$44.00', '$107.00', '$244.00', '$154.00',\n",
       "       '$26.00', '$268.00', '$205.00', '$48.00', '$28.00', '$432.00',\n",
       "       '$424.00', '$890.00', '$9,999.00', '$550.00', '$656.00', '$650.00',\n",
       "       '$63.00', '$800.00', '$411.00', '$147.00', '$235.00', '$232.00',\n",
       "       '$171.00', '$218.00', '$373.00', '$2,429.00', '$34.00', '$168.00',\n",
       "       '$174.00', '$333.00', '$19.00', '$306.00', '$47.00', '$770.00',\n",
       "       '$153.00', '$362.00', '$164.00', '$310.00', '$899.00', '$367.00',\n",
       "       '$52.00', '$507.00', '$27.00', '$374.00', '$274.00', '$359.00',\n",
       "       '$825.00', '$224.00', '$543.00', '$1,828.00', '$14.00', '$67.00',\n",
       "       '$36.00', '$316.00', '$53.00', '$595.00', '$254.00', '$514.00',\n",
       "       '$56.00', '$1,451.00', '$258.00', '$390.00', '$181.00', '$503.00',\n",
       "       '$379.00', '$430.00', '$567.00', '$2,000.00', '$571.00', '$338.00',\n",
       "       '$20.00', '$344.00', '$18.00', '$5,000.00', '$242.00', '$269.00',\n",
       "       '$156.00', '$657.00', '$540.00', '$161.00', '$289.00', '$490.00',\n",
       "       '$768.00', '$640.00', '$296.00', '$658.00', '$345.00', '$162.00',\n",
       "       '$529.00', '$209.00', '$410.00', '$238.00', '$301.00', '$3,500.00',\n",
       "       '$223.00', '$177.00', '$581.00', '$643.00', '$849.00', '$642.00',\n",
       "       '$428.00', '$217.00', '$388.00', '$683.00', '$521.00', '$525.00',\n",
       "       '$1,281.00', '$371.00', '$216.00', '$638.00', '$668.00', '$970.00',\n",
       "       '$397.00', '$340.00', '$103.00', '$314.00', '$1,380.00',\n",
       "       '$13,802.00', '$998.00', '$298.00', '$158.00', '$404.00',\n",
       "       '$664.00', '$2,500.00', '$387.00', '$589.00', '$233.00', '$327.00',\n",
       "       '$273.00', '$253.00', '$981.00', '$801.00', '$417.00', '$369.00',\n",
       "       '$975.00', '$720.00', '$479.00', '$251.00', '$24.00', '$203.00',\n",
       "       '$265.00', '$563.00', '$22.00', '$364.00', '$51,561.00', '$271.00',\n",
       "       '$392.00', '$356.00', '$556.00', '$294.00', '$13,000.00',\n",
       "       '$2,400.00', '$649.00', '$495.00', '$537.00', '$651.00', '$262.00',\n",
       "       '$323.00', '$855.00', '$346.00', '$780.00', '$288.00', '$330.00',\n",
       "       '$312.00', '$2,024.00', '$407.00', '$843.00', '$881.00', '$752.00',\n",
       "       '$945.00', '$700.00', '$6,848.00', '$850.00', '$308.00', '$237.00',\n",
       "       '$1,128.00', '$257.00', '$634.00', '$870.00', '$317.00', '$442.00',\n",
       "       '$409.00', '$528.00', '$1,350.00', '$321.00', '$950.00', '$347.00',\n",
       "       '$575.00', '$565.00', '$396.00', '$425.00', '$758.00', '$454.00',\n",
       "       '$465.00', '$443.00', '$393.00', '$613.00', '$286.00', '$21.00',\n",
       "       '$394.00', '$17.00', '$474.00', '$647.00', '$420.00', '$445.00',\n",
       "       '$324.00', '$628.00', '$1,156.00', '$403.00', '$629.00', '$402.00',\n",
       "       '$385.00', '$935.00', '$710.00', '$478.00', '$206.00', '$313.00',\n",
       "       '$566.00', '$13.00', '$590.00', '$877.00', '$493.00', '$699.00',\n",
       "       '$328.00', '$538.00', '$663.00', '$732.00', '$12,400.00',\n",
       "       '$357.00', '$429.00', '$384.00', '$8,598.00', '$632.00', '$272.00',\n",
       "       '$416.00', '$353.00', '$669.00', '$1,085.00', '$283.00', '$596.00',\n",
       "       '$3,570.00', '$1,099.00', '$3,099.00', '$937.00', '$363.00',\n",
       "       '$452.00', '$10,000.00', '$597.00', '$3,000.00', '$386.00',\n",
       "       '$1,750.00', '$473.00', '$231.00', '$1,999.00', '$326.00',\n",
       "       '$456.00', '$2,050.00', '$319.00', '$488.00', '$372.00', '$688.00',\n",
       "       '$16.00', '$401.00', '$689.00', '$554.00', '$309.00', '$692.00',\n",
       "       '$234.00', '$278.00', '$415.00', '$555.00', '$354.00', '$785.00',\n",
       "       '$864.00', '$570.00', '$455.00', '$241.00', '$383.00', '$408.00',\n",
       "       '$436.00', '$753.00', '$468.00', '$660.00', '$591.00', '$447.00',\n",
       "       '$441.00', '$568.00', '$1,400.00', '$545.00', '$530.00', '$569.00',\n",
       "       '$457.00', '$292.00', '$370.00', '$481.00', '$759.00', '$284.00',\n",
       "       '$0.00', '$459.00', '$676.00', '$541.00', '$679.00', '$348.00',\n",
       "       '$494.00', '$960.00', '$996.00', '$360.00', '$1,140.00', '$682.00',\n",
       "       '$281.00', '$453.00', '$7,479.00', '$793.00', '$856.00', '$305.00',\n",
       "       '$433.00', '$422.00', '$423.00', '$331.00', '$1,139.00', '$471.00',\n",
       "       '$980.00', '$277.00', '$1,543.00', '$636.00', '$355.00',\n",
       "       '$1,175.00', '$533.00', '$2,800.00', '$1,600.00', '$725.00',\n",
       "       '$611.00', '$467.00', '$427.00', '$439.00', '$335.00', '$426.00',\n",
       "       '$482.00', '$483.00', '$526.00', '$303.00', '$1,586.00', '$922.00',\n",
       "       '$252.00', '$501.00', '$437.00', '$1,195.00', '$828.00', '$655.00',\n",
       "       '$448.00', '$464.00', '$477.00', '$302.00', '$711.00', '$1,026.00',\n",
       "       '$783.00', '$662.00', '$766.00', '$461.00', '$391.00', '$546.00',\n",
       "       '$418.00', '$536.00', '$1,007.00', '$845.00', '$1,100.00',\n",
       "       '$576.00', '$748.00', '$472.00', '$1,089.00', '$332.00', '$616.00',\n",
       "       '$701.00', '$539.00', '$557.00', '$504.00', '$990.00', '$810.00',\n",
       "       '$745.00', '$641.00', '$512.00', '$761.00', '$516.00', '$824.00',\n",
       "       '$342.00', '$489.00', '$578.00', '$708.00', '$440.00', '$491.00',\n",
       "       '$498.00', '$670.00', '$497.00', '$635.00', '$548.00', '$502.00',\n",
       "       '$1,482.00', '$476.00', '$620.00', '$405.00', '$1,738.00',\n",
       "       '$2,600.00', '$666.00', '$698.00', '$622.00', '$746.00', '$451.00',\n",
       "       '$336.00', '$487.00', '$2,300.00', '$542.00', '$527.00',\n",
       "       '$1,014.00', '$381.00', '$376.00', '$1,129.00', '$1,984.00',\n",
       "       '$623.00', '$842.00', '$609.00', '$406.00', '$957.00', '$713.00',\n",
       "       '$913.00', '$434.00', '$757.00', '$12,000.00', '$1,365.00',\n",
       "       '$377.00', '$607.00', '$943.00', '$532.00', '$337.00', '$322.00',\n",
       "       '$1,369.00', '$782.00', '$1,143.00', '$3,912.00', '$953.00',\n",
       "       '$585.00', '$851.00', '$790.00', '$560.00', '$675.00', '$1,125.00',\n",
       "       '$1,133.00', '$2,393.00', '$814.00', '$2,150.00', '$368.00',\n",
       "       '$460.00', '$506.00', '$646.00', '$771.00', '$971.00', '$351.00',\n",
       "       '$462.00', '$366.00', '$511.00', '$1,355.00', '$505.00', '$558.00',\n",
       "       '$736.00', '$559.00'], dtype=object)"
      ]
     },
     "execution_count": 48,
     "metadata": {},
     "output_type": "execute_result"
    }
   ],
   "source": [
    "airbnb.price.unique() # lets take a look at the prices and what kind of special charaters they have"
   ]
  },
  {
   "cell_type": "markdown",
   "id": "5aeb279d",
   "metadata": {},
   "source": [
    "so we have '$' and ',' as special characters, must remove them and convert our target column into float"
   ]
  },
  {
   "cell_type": "code",
   "execution_count": 49,
   "id": "a654620e",
   "metadata": {},
   "outputs": [],
   "source": [
    "airbnb['price'] = airbnb['price'].str.replace('[$,]', '', regex=True).astype(float)"
   ]
  },
  {
   "cell_type": "code",
   "execution_count": 50,
   "id": "e25abfef",
   "metadata": {},
   "outputs": [
    {
     "name": "stdout",
     "output_type": "stream",
     "text": [
      "<class 'pandas.core.frame.DataFrame'>\n",
      "RangeIndex: 17997 entries, 0 to 17996\n",
      "Data columns (total 4 columns):\n",
      " #   Column       Non-Null Count  Dtype  \n",
      "---  ------       --------------  -----  \n",
      " 0   description  17751 non-null  object \n",
      " 1   price        17997 non-null  float64\n",
      " 2   desc_len     17997 non-null  int64  \n",
      " 3   punct%       17997 non-null  float64\n",
      "dtypes: float64(2), int64(1), object(1)\n",
      "memory usage: 562.5+ KB\n"
     ]
    }
   ],
   "source": [
    "airbnb.info()"
   ]
  },
  {
   "cell_type": "code",
   "execution_count": 51,
   "id": "2f61dd6d",
   "metadata": {},
   "outputs": [
    {
     "data": {
      "text/plain": [
       "description    246\n",
       "price            0\n",
       "desc_len         0\n",
       "punct%           0\n",
       "dtype: int64"
      ]
     },
     "execution_count": 51,
     "metadata": {},
     "output_type": "execute_result"
    }
   ],
   "source": [
    "airbnb.isnull().sum() #we have few null records as well lets drop them"
   ]
  },
  {
   "cell_type": "code",
   "execution_count": 52,
   "id": "24dd293c",
   "metadata": {},
   "outputs": [],
   "source": [
    "airbnb.dropna(inplace=True) #dropping the null values"
   ]
  },
  {
   "cell_type": "code",
   "execution_count": 53,
   "id": "126f3c93",
   "metadata": {},
   "outputs": [
    {
     "data": {
      "text/plain": [
       "description    0\n",
       "price          0\n",
       "desc_len       0\n",
       "punct%         0\n",
       "dtype: int64"
      ]
     },
     "execution_count": 53,
     "metadata": {},
     "output_type": "execute_result"
    }
   ],
   "source": [
    "airbnb.isnull().sum() # ok looks good"
   ]
  },
  {
   "cell_type": "markdown",
   "id": "82165807",
   "metadata": {},
   "source": [
    "### Data Visualization"
   ]
  },
  {
   "cell_type": "code",
   "execution_count": 41,
   "id": "c8d0a049",
   "metadata": {},
   "outputs": [
    {
     "data": {
      "text/plain": [
       "array([4.6900e+02, 1.0400e+02, 1.4500e+02, 1.5000e+02, 4.5000e+01,\n",
       "       9.0000e+01, 1.0000e+02, 1.4200e+02, 1.8500e+02, 1.7000e+02,\n",
       "       1.3800e+02, 8.3000e+01, 4.8500e+02, 6.0000e+01, 1.6000e+02,\n",
       "       1.2600e+02, 7.9000e+01, 1.4000e+02, 1.0500e+02, 5.5000e+01,\n",
       "       9.1000e+01, 2.1400e+02, 9.6000e+01, 1.3000e+02, 1.3900e+02,\n",
       "       4.0000e+01, 6.6000e+01, 1.8900e+02, 5.2000e+02, 1.2800e+02,\n",
       "       8.6000e+01, 8.0000e+01, 1.2500e+02, 2.0000e+02, 1.6900e+02,\n",
       "       7.3000e+01, 1.4400e+02, 2.1900e+02, 3.0000e+02, 2.2100e+02,\n",
       "       1.6600e+02, 9.2000e+01, 1.7500e+02, 3.2900e+02, 2.0700e+02,\n",
       "       7.0000e+01, 1.3400e+02, 9.5000e+01, 8.8000e+01, 1.2000e+02,\n",
       "       7.5000e+01, 3.1100e+02, 1.0210e+03, 8.5000e+01, 1.0900e+02,\n",
       "       7.6000e+01, 1.4100e+02, 7.4000e+01, 4.9000e+01, 9.3000e+01,\n",
       "       1.8400e+02, 2.5000e+02, 5.8000e+01, 1.9600e+02, 1.1800e+02,\n",
       "       2.2500e+02, 3.0400e+02, 3.1000e+01, 2.6000e+02, 1.8700e+02,\n",
       "       4.6300e+02, 2.6400e+02, 3.6100e+02, 5.0000e+01, 2.4900e+02,\n",
       "       8.9000e+01, 3.8900e+02, 7.2000e+01, 1.1600e+02, 3.8000e+02,\n",
       "       9.7000e+01, 3.3000e+01, 2.6700e+02, 1.1000e+02, 2.9900e+02,\n",
       "       1.1500e+02, 1.0600e+02, 6.8000e+01, 5.9000e+01, 1.0800e+02,\n",
       "       1.0100e+02, 3.5800e+02, 2.9500e+02, 2.2600e+02, 1.9900e+02,\n",
       "       1.1900e+02, 1.0200e+02, 6.2100e+02, 7.1000e+01, 2.5900e+02,\n",
       "       3.8000e+01, 4.5000e+02, 5.5200e+02, 4.4900e+02, 3.7000e+01,\n",
       "       3.4300e+02, 6.5000e+01, 1.9000e+02, 3.7500e+02, 2.5500e+02,\n",
       "       1.5900e+02, 1.8600e+02, 2.7500e+02, 6.9000e+01, 1.4300e+02,\n",
       "       2.2000e+02, 7.7000e+01, 1.5200e+02, 1.6300e+02, 5.7000e+01,\n",
       "       1.3600e+02, 2.4500e+02, 2.0100e+02, 9.9000e+01, 5.4000e+01,\n",
       "       5.8200e+02, 4.8000e+02, 1.2100e+02, 3.9800e+02, 1.8000e+02,\n",
       "       2.1200e+02, 3.1500e+02, 2.2900e+02, 1.7900e+02, 2.1100e+02,\n",
       "       1.2900e+02, 4.8600e+02, 6.0000e+02, 4.9900e+02, 1.5500e+02,\n",
       "       1.2200e+02, 3.9000e+01, 2.4800e+02, 1.9500e+02, 3.0000e+01,\n",
       "       2.3000e+02, 4.7500e+02, 1.6500e+02, 6.1000e+01, 3.2000e+02,\n",
       "       3.5000e+02, 2.2800e+02, 5.1500e+02, 2.9300e+02, 3.2000e+01,\n",
       "       4.1000e+01, 1.3700e+02, 9.0700e+02, 3.9900e+02, 7.1400e+02,\n",
       "       2.4600e+02, 1.0000e+03, 2.5600e+02, 5.9800e+02, 5.4900e+02,\n",
       "       1.2300e+02, 3.9500e+02, 8.9700e+02, 1.4900e+02, 7.8000e+01,\n",
       "       2.8000e+02, 7.9900e+02, 6.4000e+01, 2.7900e+02, 8.4000e+01,\n",
       "       2.4300e+02, 4.1300e+02, 1.2700e+02, 2.3900e+02, 1.4800e+02,\n",
       "       6.2000e+01, 2.2700e+02, 1.3100e+02, 1.7300e+02, 1.7800e+02,\n",
       "       8.5200e+02, 1.8200e+02, 4.1400e+02, 1.9800e+02, 9.0000e+02,\n",
       "       8.8800e+02, 2.4700e+02, 3.2500e+02, 8.9500e+02, 2.9000e+01,\n",
       "       4.4600e+02, 2.6300e+02, 8.2000e+01, 3.0700e+02, 8.1000e+01,\n",
       "       2.9700e+02, 2.7000e+02, 1.3200e+02, 1.9400e+02, 2.4000e+02,\n",
       "       2.7600e+02, 1.9200e+02, 1.4600e+02, 6.5900e+02, 8.7000e+01,\n",
       "       4.9200e+02, 1.6700e+02, 1.3500e+02, 2.0800e+02, 5.8000e+02,\n",
       "       1.8800e+02, 3.5000e+01, 8.3000e+02, 1.2400e+02, 3.7800e+02,\n",
       "       2.1000e+02, 1.1100e+02, 3.6500e+02, 4.3000e+01, 5.1000e+01,\n",
       "       4.0000e+02, 2.8200e+02, 3.1800e+02, 1.4500e+03, 5.0000e+02,\n",
       "       9.8000e+01, 1.3300e+02, 5.1000e+02, 2.6600e+02, 9.4000e+01,\n",
       "       1.1200e+02, 1.9300e+02, 2.9100e+02, 1.7200e+02, 2.6100e+02,\n",
       "       4.2000e+01, 7.1900e+02, 9.9900e+02, 2.3600e+02, 5.9900e+02,\n",
       "       1.8300e+02, 2.2200e+02, 4.6000e+01, 1.1400e+02, 4.1900e+02,\n",
       "       4.2100e+02, 2.5000e+01, 1.2000e+03, 1.3000e+03, 2.8500e+02,\n",
       "       2.0200e+02, 7.5000e+02, 1.1300e+02, 7.1200e+02, 3.4900e+02,\n",
       "       1.1700e+02, 2.0400e+02, 2.9000e+02, 8.9300e+02, 3.3400e+02,\n",
       "       1.5700e+02, 2.1420e+03, 1.9100e+02, 1.9700e+02, 2.3000e+01,\n",
       "       1.5000e+03, 2.1500e+02, 2.1300e+02, 8.4800e+02, 1.7600e+02,\n",
       "       3.3900e+02, 1.5100e+02, 4.4000e+01, 1.0700e+02, 2.4400e+02,\n",
       "       1.5400e+02, 2.6000e+01, 2.6800e+02, 2.0500e+02, 4.8000e+01,\n",
       "       2.8000e+01, 4.3200e+02, 4.2400e+02, 8.9000e+02, 9.9990e+03,\n",
       "       5.5000e+02, 6.5600e+02, 6.5000e+02, 6.3000e+01, 8.0000e+02,\n",
       "       4.1100e+02, 1.4700e+02, 2.3500e+02, 2.3200e+02, 1.7100e+02,\n",
       "       2.1800e+02, 3.7300e+02, 2.4290e+03, 3.4000e+01, 1.6800e+02,\n",
       "       1.7400e+02, 3.3300e+02, 1.9000e+01, 3.0600e+02, 4.7000e+01,\n",
       "       7.7000e+02, 1.5300e+02, 3.6200e+02, 1.6400e+02, 3.1000e+02,\n",
       "       8.9900e+02, 3.6700e+02, 5.2000e+01, 5.0700e+02, 2.7000e+01,\n",
       "       3.7400e+02, 2.7400e+02, 3.5900e+02, 8.2500e+02, 2.2400e+02,\n",
       "       5.4300e+02, 1.8280e+03, 1.4000e+01, 6.7000e+01, 3.6000e+01,\n",
       "       3.1600e+02, 5.3000e+01, 5.9500e+02, 2.5400e+02, 5.1400e+02,\n",
       "       5.6000e+01, 1.4510e+03, 2.5800e+02, 3.9000e+02, 1.8100e+02,\n",
       "       5.0300e+02, 3.7900e+02, 4.3000e+02, 5.6700e+02, 2.0000e+03,\n",
       "       5.7100e+02, 3.3800e+02, 2.0000e+01, 3.4400e+02, 1.8000e+01,\n",
       "       5.0000e+03, 2.4200e+02, 2.6900e+02, 1.5600e+02, 6.5700e+02,\n",
       "       5.4000e+02, 1.6100e+02, 2.8900e+02, 4.9000e+02, 7.6800e+02,\n",
       "       6.4000e+02, 2.9600e+02, 6.5800e+02, 3.4500e+02, 1.6200e+02,\n",
       "       5.2900e+02, 2.0900e+02, 4.1000e+02, 2.3800e+02, 3.0100e+02,\n",
       "       3.5000e+03, 2.2300e+02, 1.7700e+02, 5.8100e+02, 6.4300e+02,\n",
       "       8.4900e+02, 6.4200e+02, 4.2800e+02, 2.1700e+02, 3.8800e+02,\n",
       "       6.8300e+02, 5.2100e+02, 5.2500e+02, 3.7100e+02, 2.1600e+02,\n",
       "       6.3800e+02, 6.6800e+02, 9.7000e+02, 3.9700e+02, 3.4000e+02,\n",
       "       1.0300e+02, 3.1400e+02, 1.3800e+03, 1.3802e+04, 9.9800e+02,\n",
       "       2.9800e+02, 1.5800e+02, 4.0400e+02, 6.6400e+02, 2.5000e+03,\n",
       "       3.8700e+02, 5.8900e+02, 2.3300e+02, 3.2700e+02, 2.7300e+02,\n",
       "       2.5300e+02, 9.8100e+02, 8.0100e+02, 4.1700e+02, 3.6900e+02,\n",
       "       9.7500e+02, 7.2000e+02, 4.7900e+02, 2.5100e+02, 2.4000e+01,\n",
       "       2.0300e+02, 2.6500e+02, 5.6300e+02, 2.2000e+01, 3.6400e+02,\n",
       "       5.1561e+04, 2.7100e+02, 3.9200e+02, 3.5600e+02, 5.5600e+02,\n",
       "       2.9400e+02, 1.3000e+04, 2.4000e+03, 6.4900e+02, 4.9500e+02,\n",
       "       5.3700e+02, 6.5100e+02, 2.6200e+02, 3.2300e+02, 8.5500e+02,\n",
       "       3.4600e+02, 7.8000e+02, 2.8800e+02, 3.3000e+02, 3.1200e+02,\n",
       "       2.0240e+03, 4.0700e+02, 8.4300e+02, 8.8100e+02, 7.5200e+02,\n",
       "       9.4500e+02, 7.0000e+02, 6.8480e+03, 8.5000e+02, 3.0800e+02,\n",
       "       2.3700e+02, 1.1280e+03, 2.5700e+02, 6.3400e+02, 8.7000e+02,\n",
       "       3.1700e+02, 4.4200e+02, 4.0900e+02, 5.2800e+02, 1.3500e+03,\n",
       "       3.2100e+02, 9.5000e+02, 3.4700e+02, 5.7500e+02, 5.6500e+02,\n",
       "       3.9600e+02, 4.2500e+02, 7.5800e+02, 4.5400e+02, 4.6500e+02,\n",
       "       4.4300e+02, 3.9300e+02, 6.1300e+02, 2.8600e+02, 2.1000e+01,\n",
       "       3.9400e+02, 1.7000e+01, 4.7400e+02, 6.4700e+02, 4.2000e+02,\n",
       "       4.4500e+02, 3.2400e+02, 6.2800e+02, 1.1560e+03, 4.0300e+02,\n",
       "       6.2900e+02, 4.0200e+02, 3.8500e+02, 9.3500e+02, 7.1000e+02,\n",
       "       4.7800e+02, 2.0600e+02, 3.1300e+02, 5.6600e+02, 1.3000e+01,\n",
       "       5.9000e+02, 8.7700e+02, 4.9300e+02, 6.9900e+02, 3.2800e+02,\n",
       "       5.3800e+02, 6.6300e+02, 7.3200e+02, 1.2400e+04, 3.5700e+02,\n",
       "       4.2900e+02, 3.8400e+02, 8.5980e+03, 6.3200e+02, 2.7200e+02,\n",
       "       4.1600e+02, 3.5300e+02, 6.6900e+02, 1.0850e+03, 2.8300e+02,\n",
       "       5.9600e+02, 3.5700e+03, 1.0990e+03, 3.0990e+03, 9.3700e+02,\n",
       "       3.6300e+02, 4.5200e+02, 1.0000e+04, 5.9700e+02, 3.0000e+03,\n",
       "       3.8600e+02, 1.7500e+03, 4.7300e+02, 2.3100e+02, 1.9990e+03,\n",
       "       3.2600e+02, 4.5600e+02, 2.0500e+03, 4.8800e+02, 3.7200e+02,\n",
       "       6.8800e+02, 1.6000e+01, 4.0100e+02, 6.8900e+02, 5.5400e+02,\n",
       "       3.0900e+02, 6.9200e+02, 2.3400e+02, 2.7800e+02, 4.1500e+02,\n",
       "       5.5500e+02, 3.5400e+02, 7.8500e+02, 8.6400e+02, 5.7000e+02,\n",
       "       4.5500e+02, 2.4100e+02, 3.8300e+02, 4.0800e+02, 4.3600e+02,\n",
       "       7.5300e+02, 4.6800e+02, 6.6000e+02, 5.9100e+02, 4.4700e+02,\n",
       "       4.4100e+02, 5.6800e+02, 1.4000e+03, 3.1900e+02, 5.4500e+02,\n",
       "       5.3000e+02, 5.6900e+02, 4.5700e+02, 2.9200e+02, 3.7000e+02,\n",
       "       4.8100e+02, 7.5900e+02, 2.8400e+02, 4.5900e+02, 6.7600e+02,\n",
       "       5.4100e+02, 6.7900e+02, 3.4800e+02, 4.9400e+02, 9.6000e+02,\n",
       "       9.9600e+02, 3.6000e+02, 1.1400e+03, 6.8200e+02, 2.8100e+02,\n",
       "       4.5300e+02, 7.4790e+03, 7.9300e+02, 8.5600e+02, 3.0500e+02,\n",
       "       4.3300e+02, 4.2200e+02, 4.2300e+02, 3.3100e+02, 1.1390e+03,\n",
       "       4.7100e+02, 9.8000e+02, 2.7700e+02, 1.5430e+03, 6.3600e+02,\n",
       "       3.5500e+02, 1.1750e+03, 5.3300e+02, 2.8000e+03, 1.6000e+03,\n",
       "       7.2500e+02, 6.1100e+02, 4.6700e+02, 4.2700e+02, 4.3900e+02,\n",
       "       3.3500e+02, 4.2600e+02, 4.8200e+02, 4.8300e+02, 5.2600e+02,\n",
       "       3.0300e+02, 1.5860e+03, 9.2200e+02, 2.5200e+02, 5.0100e+02,\n",
       "       4.3700e+02, 1.1950e+03, 8.2800e+02, 6.5500e+02, 4.4800e+02,\n",
       "       4.6400e+02, 4.7700e+02, 3.0200e+02, 7.1100e+02, 1.0260e+03,\n",
       "       7.8300e+02, 6.6200e+02, 7.6600e+02, 4.6100e+02, 3.9100e+02,\n",
       "       5.4600e+02, 4.1800e+02, 5.3600e+02, 1.0070e+03, 8.4500e+02,\n",
       "       1.1000e+03, 5.7600e+02, 7.4800e+02, 4.7200e+02, 1.0890e+03,\n",
       "       3.3200e+02, 6.1600e+02, 7.0100e+02, 5.3900e+02, 5.5700e+02,\n",
       "       5.0400e+02, 9.9000e+02, 8.1000e+02, 7.4500e+02, 6.4100e+02,\n",
       "       5.1200e+02, 7.6100e+02, 5.1600e+02, 8.2400e+02, 3.4200e+02,\n",
       "       4.8900e+02, 5.7800e+02, 7.0800e+02, 4.4000e+02, 4.9100e+02,\n",
       "       4.9800e+02, 6.7000e+02, 4.9700e+02, 6.3500e+02, 5.4800e+02,\n",
       "       5.0200e+02, 1.4820e+03, 4.7600e+02, 6.2000e+02, 4.0500e+02,\n",
       "       1.7380e+03, 2.6000e+03, 6.6600e+02, 6.9800e+02, 6.2200e+02,\n",
       "       7.4600e+02, 4.5100e+02, 3.3600e+02, 4.8700e+02, 2.3000e+03,\n",
       "       5.4200e+02, 5.2700e+02, 1.0140e+03, 3.8100e+02, 3.7600e+02,\n",
       "       1.1290e+03, 1.9840e+03, 6.2300e+02, 8.4200e+02, 6.0900e+02,\n",
       "       4.0600e+02, 9.5700e+02, 7.1300e+02, 9.1300e+02, 4.3400e+02,\n",
       "       7.5700e+02, 1.2000e+04, 1.3650e+03, 3.7700e+02, 6.0700e+02,\n",
       "       9.4300e+02, 5.3200e+02, 3.3700e+02, 3.2200e+02, 1.3690e+03,\n",
       "       7.8200e+02, 1.1430e+03, 3.9120e+03, 9.5300e+02, 5.8500e+02,\n",
       "       8.5100e+02, 7.9000e+02, 5.6000e+02, 6.7500e+02, 1.1250e+03,\n",
       "       1.1330e+03, 2.3930e+03, 8.1400e+02, 2.1500e+03, 3.6800e+02,\n",
       "       4.6000e+02, 5.0600e+02, 6.4600e+02, 7.7100e+02, 9.7100e+02,\n",
       "       3.5100e+02, 4.6200e+02, 3.6600e+02, 5.1100e+02, 1.3550e+03,\n",
       "       5.0500e+02, 5.5800e+02, 7.3600e+02, 5.5900e+02])"
      ]
     },
     "execution_count": 41,
     "metadata": {},
     "output_type": "execute_result"
    }
   ],
   "source": [
    "uni_price"
   ]
  },
  {
   "cell_type": "code",
   "execution_count": 56,
   "id": "19cfadc4",
   "metadata": {},
   "outputs": [
    {
     "data": {
      "application/vnd.plotly.v1+json": {
       "config": {
        "linkText": "Export to plot.ly",
        "plotlyServerURL": "https://plot.ly",
        "showLink": false
       },
       "data": [
        {
         "marker": {
          "color": [
           48820,
           47288,
           45132,
           31470,
           31234,
           30376,
           28046,
           19244,
           16858,
           11852,
           11050,
           11028,
           10910,
           9299,
           9186,
           8785,
           8744,
           8715,
           7950,
           7927,
           7642,
           7521,
           6902,
           6902,
           6623,
           6560,
           6452,
           6381,
           6361,
           6299,
           6131,
           6071,
           5841,
           5722,
           5717,
           5537,
           5535,
           5421,
           5319,
           5247,
           5165,
           5125,
           5094,
           5064,
           4745,
           4690,
           4578,
           4539,
           4531,
           4488,
           4273,
           4186,
           4049,
           4043,
           4022,
           4015,
           3924,
           3893,
           3857,
           3818,
           3815,
           3782,
           3774,
           3757,
           3723,
           3644,
           3491,
           3490,
           3460,
           3431,
           3413,
           3361,
           3347,
           3283,
           3200,
           3149,
           3129,
           3107,
           3020,
           3001,
           2918,
           2902,
           2881,
           2877,
           2874,
           2851,
           2834,
           2834,
           2815,
           2768,
           2725,
           2682,
           2636,
           2635,
           2626,
           2621,
           2616,
           2610
          ],
          "colorscale": [
           [
            0,
            "rgb(0,0,131)"
           ],
           [
            0.2,
            "rgb(0,60,170)"
           ],
           [
            0.4,
            "rgb(5,255,255)"
           ],
           [
            0.6,
            "rgb(255,255,0)"
           ],
           [
            0.8,
            "rgb(250,0,0)"
           ],
           [
            1,
            "rgb(128,0,0)"
           ]
          ]
         },
         "text": "Word counts",
         "type": "bar",
         "x": [
          "to",
          "a",
          "/><br",
          "with",
          "is",
          "in",
          "of",
          "for",
          "<br",
          "you",
          "from",
          "space</b><br",
          "/><b>The",
          "/>-",
          "on",
          "are",
          "your",
          "The",
          "bedroom",
          "room",
          "&",
          "has",
          "or",
          "at",
          "located",
          "2",
          "this",
          "have",
          "private",
          "will",
          "all",
          "kitchen",
          "access",
          "walk",
          "/>The",
          "living",
          "Toronto",
          "as",
          "/><b>Guest",
          "access</b><br",
          "1",
          "be",
          "apartment",
          "home",
          "can",
          "bed",
          "space",
          "This"
         ],
         "y": [
          48820,
          47288,
          45132,
          31470,
          31234,
          30376,
          28046,
          19244,
          16858,
          11852,
          11050,
          11028,
          10910,
          9299,
          9186,
          8785,
          8744,
          8715,
          7950,
          7927,
          7642,
          7521,
          6902,
          6902,
          6623,
          6560,
          6452,
          6381,
          6361,
          6299,
          6131,
          6071,
          5841,
          5722,
          5717,
          5537,
          5535,
          5421,
          5319,
          5247,
          5165,
          5125,
          5094,
          5064,
          4745,
          4690,
          4578,
          4539
         ]
        }
       ],
       "layout": {
        "template": {
         "data": {
          "bar": [
           {
            "error_x": {
             "color": "#2a3f5f"
            },
            "error_y": {
             "color": "#2a3f5f"
            },
            "marker": {
             "line": {
              "color": "#E5ECF6",
              "width": 0.5
             },
             "pattern": {
              "fillmode": "overlay",
              "size": 10,
              "solidity": 0.2
             }
            },
            "type": "bar"
           }
          ],
          "barpolar": [
           {
            "marker": {
             "line": {
              "color": "#E5ECF6",
              "width": 0.5
             },
             "pattern": {
              "fillmode": "overlay",
              "size": 10,
              "solidity": 0.2
             }
            },
            "type": "barpolar"
           }
          ],
          "carpet": [
           {
            "aaxis": {
             "endlinecolor": "#2a3f5f",
             "gridcolor": "white",
             "linecolor": "white",
             "minorgridcolor": "white",
             "startlinecolor": "#2a3f5f"
            },
            "baxis": {
             "endlinecolor": "#2a3f5f",
             "gridcolor": "white",
             "linecolor": "white",
             "minorgridcolor": "white",
             "startlinecolor": "#2a3f5f"
            },
            "type": "carpet"
           }
          ],
          "choropleth": [
           {
            "colorbar": {
             "outlinewidth": 0,
             "ticks": ""
            },
            "type": "choropleth"
           }
          ],
          "contour": [
           {
            "colorbar": {
             "outlinewidth": 0,
             "ticks": ""
            },
            "colorscale": [
             [
              0,
              "#0d0887"
             ],
             [
              0.1111111111111111,
              "#46039f"
             ],
             [
              0.2222222222222222,
              "#7201a8"
             ],
             [
              0.3333333333333333,
              "#9c179e"
             ],
             [
              0.4444444444444444,
              "#bd3786"
             ],
             [
              0.5555555555555556,
              "#d8576b"
             ],
             [
              0.6666666666666666,
              "#ed7953"
             ],
             [
              0.7777777777777778,
              "#fb9f3a"
             ],
             [
              0.8888888888888888,
              "#fdca26"
             ],
             [
              1,
              "#f0f921"
             ]
            ],
            "type": "contour"
           }
          ],
          "contourcarpet": [
           {
            "colorbar": {
             "outlinewidth": 0,
             "ticks": ""
            },
            "type": "contourcarpet"
           }
          ],
          "heatmap": [
           {
            "colorbar": {
             "outlinewidth": 0,
             "ticks": ""
            },
            "colorscale": [
             [
              0,
              "#0d0887"
             ],
             [
              0.1111111111111111,
              "#46039f"
             ],
             [
              0.2222222222222222,
              "#7201a8"
             ],
             [
              0.3333333333333333,
              "#9c179e"
             ],
             [
              0.4444444444444444,
              "#bd3786"
             ],
             [
              0.5555555555555556,
              "#d8576b"
             ],
             [
              0.6666666666666666,
              "#ed7953"
             ],
             [
              0.7777777777777778,
              "#fb9f3a"
             ],
             [
              0.8888888888888888,
              "#fdca26"
             ],
             [
              1,
              "#f0f921"
             ]
            ],
            "type": "heatmap"
           }
          ],
          "heatmapgl": [
           {
            "colorbar": {
             "outlinewidth": 0,
             "ticks": ""
            },
            "colorscale": [
             [
              0,
              "#0d0887"
             ],
             [
              0.1111111111111111,
              "#46039f"
             ],
             [
              0.2222222222222222,
              "#7201a8"
             ],
             [
              0.3333333333333333,
              "#9c179e"
             ],
             [
              0.4444444444444444,
              "#bd3786"
             ],
             [
              0.5555555555555556,
              "#d8576b"
             ],
             [
              0.6666666666666666,
              "#ed7953"
             ],
             [
              0.7777777777777778,
              "#fb9f3a"
             ],
             [
              0.8888888888888888,
              "#fdca26"
             ],
             [
              1,
              "#f0f921"
             ]
            ],
            "type": "heatmapgl"
           }
          ],
          "histogram": [
           {
            "marker": {
             "pattern": {
              "fillmode": "overlay",
              "size": 10,
              "solidity": 0.2
             }
            },
            "type": "histogram"
           }
          ],
          "histogram2d": [
           {
            "colorbar": {
             "outlinewidth": 0,
             "ticks": ""
            },
            "colorscale": [
             [
              0,
              "#0d0887"
             ],
             [
              0.1111111111111111,
              "#46039f"
             ],
             [
              0.2222222222222222,
              "#7201a8"
             ],
             [
              0.3333333333333333,
              "#9c179e"
             ],
             [
              0.4444444444444444,
              "#bd3786"
             ],
             [
              0.5555555555555556,
              "#d8576b"
             ],
             [
              0.6666666666666666,
              "#ed7953"
             ],
             [
              0.7777777777777778,
              "#fb9f3a"
             ],
             [
              0.8888888888888888,
              "#fdca26"
             ],
             [
              1,
              "#f0f921"
             ]
            ],
            "type": "histogram2d"
           }
          ],
          "histogram2dcontour": [
           {
            "colorbar": {
             "outlinewidth": 0,
             "ticks": ""
            },
            "colorscale": [
             [
              0,
              "#0d0887"
             ],
             [
              0.1111111111111111,
              "#46039f"
             ],
             [
              0.2222222222222222,
              "#7201a8"
             ],
             [
              0.3333333333333333,
              "#9c179e"
             ],
             [
              0.4444444444444444,
              "#bd3786"
             ],
             [
              0.5555555555555556,
              "#d8576b"
             ],
             [
              0.6666666666666666,
              "#ed7953"
             ],
             [
              0.7777777777777778,
              "#fb9f3a"
             ],
             [
              0.8888888888888888,
              "#fdca26"
             ],
             [
              1,
              "#f0f921"
             ]
            ],
            "type": "histogram2dcontour"
           }
          ],
          "mesh3d": [
           {
            "colorbar": {
             "outlinewidth": 0,
             "ticks": ""
            },
            "type": "mesh3d"
           }
          ],
          "parcoords": [
           {
            "line": {
             "colorbar": {
              "outlinewidth": 0,
              "ticks": ""
             }
            },
            "type": "parcoords"
           }
          ],
          "pie": [
           {
            "automargin": true,
            "type": "pie"
           }
          ],
          "scatter": [
           {
            "marker": {
             "colorbar": {
              "outlinewidth": 0,
              "ticks": ""
             }
            },
            "type": "scatter"
           }
          ],
          "scatter3d": [
           {
            "line": {
             "colorbar": {
              "outlinewidth": 0,
              "ticks": ""
             }
            },
            "marker": {
             "colorbar": {
              "outlinewidth": 0,
              "ticks": ""
             }
            },
            "type": "scatter3d"
           }
          ],
          "scattercarpet": [
           {
            "marker": {
             "colorbar": {
              "outlinewidth": 0,
              "ticks": ""
             }
            },
            "type": "scattercarpet"
           }
          ],
          "scattergeo": [
           {
            "marker": {
             "colorbar": {
              "outlinewidth": 0,
              "ticks": ""
             }
            },
            "type": "scattergeo"
           }
          ],
          "scattergl": [
           {
            "marker": {
             "colorbar": {
              "outlinewidth": 0,
              "ticks": ""
             }
            },
            "type": "scattergl"
           }
          ],
          "scattermapbox": [
           {
            "marker": {
             "colorbar": {
              "outlinewidth": 0,
              "ticks": ""
             }
            },
            "type": "scattermapbox"
           }
          ],
          "scatterpolar": [
           {
            "marker": {
             "colorbar": {
              "outlinewidth": 0,
              "ticks": ""
             }
            },
            "type": "scatterpolar"
           }
          ],
          "scatterpolargl": [
           {
            "marker": {
             "colorbar": {
              "outlinewidth": 0,
              "ticks": ""
             }
            },
            "type": "scatterpolargl"
           }
          ],
          "scatterternary": [
           {
            "marker": {
             "colorbar": {
              "outlinewidth": 0,
              "ticks": ""
             }
            },
            "type": "scatterternary"
           }
          ],
          "surface": [
           {
            "colorbar": {
             "outlinewidth": 0,
             "ticks": ""
            },
            "colorscale": [
             [
              0,
              "#0d0887"
             ],
             [
              0.1111111111111111,
              "#46039f"
             ],
             [
              0.2222222222222222,
              "#7201a8"
             ],
             [
              0.3333333333333333,
              "#9c179e"
             ],
             [
              0.4444444444444444,
              "#bd3786"
             ],
             [
              0.5555555555555556,
              "#d8576b"
             ],
             [
              0.6666666666666666,
              "#ed7953"
             ],
             [
              0.7777777777777778,
              "#fb9f3a"
             ],
             [
              0.8888888888888888,
              "#fdca26"
             ],
             [
              1,
              "#f0f921"
             ]
            ],
            "type": "surface"
           }
          ],
          "table": [
           {
            "cells": {
             "fill": {
              "color": "#EBF0F8"
             },
             "line": {
              "color": "white"
             }
            },
            "header": {
             "fill": {
              "color": "#C8D4E3"
             },
             "line": {
              "color": "white"
             }
            },
            "type": "table"
           }
          ]
         },
         "layout": {
          "annotationdefaults": {
           "arrowcolor": "#2a3f5f",
           "arrowhead": 0,
           "arrowwidth": 1
          },
          "autotypenumbers": "strict",
          "coloraxis": {
           "colorbar": {
            "outlinewidth": 0,
            "ticks": ""
           }
          },
          "colorscale": {
           "diverging": [
            [
             0,
             "#8e0152"
            ],
            [
             0.1,
             "#c51b7d"
            ],
            [
             0.2,
             "#de77ae"
            ],
            [
             0.3,
             "#f1b6da"
            ],
            [
             0.4,
             "#fde0ef"
            ],
            [
             0.5,
             "#f7f7f7"
            ],
            [
             0.6,
             "#e6f5d0"
            ],
            [
             0.7,
             "#b8e186"
            ],
            [
             0.8,
             "#7fbc41"
            ],
            [
             0.9,
             "#4d9221"
            ],
            [
             1,
             "#276419"
            ]
           ],
           "sequential": [
            [
             0,
             "#0d0887"
            ],
            [
             0.1111111111111111,
             "#46039f"
            ],
            [
             0.2222222222222222,
             "#7201a8"
            ],
            [
             0.3333333333333333,
             "#9c179e"
            ],
            [
             0.4444444444444444,
             "#bd3786"
            ],
            [
             0.5555555555555556,
             "#d8576b"
            ],
            [
             0.6666666666666666,
             "#ed7953"
            ],
            [
             0.7777777777777778,
             "#fb9f3a"
            ],
            [
             0.8888888888888888,
             "#fdca26"
            ],
            [
             1,
             "#f0f921"
            ]
           ],
           "sequentialminus": [
            [
             0,
             "#0d0887"
            ],
            [
             0.1111111111111111,
             "#46039f"
            ],
            [
             0.2222222222222222,
             "#7201a8"
            ],
            [
             0.3333333333333333,
             "#9c179e"
            ],
            [
             0.4444444444444444,
             "#bd3786"
            ],
            [
             0.5555555555555556,
             "#d8576b"
            ],
            [
             0.6666666666666666,
             "#ed7953"
            ],
            [
             0.7777777777777778,
             "#fb9f3a"
            ],
            [
             0.8888888888888888,
             "#fdca26"
            ],
            [
             1,
             "#f0f921"
            ]
           ]
          },
          "colorway": [
           "#636efa",
           "#EF553B",
           "#00cc96",
           "#ab63fa",
           "#FFA15A",
           "#19d3f3",
           "#FF6692",
           "#B6E880",
           "#FF97FF",
           "#FECB52"
          ],
          "font": {
           "color": "#2a3f5f"
          },
          "geo": {
           "bgcolor": "white",
           "lakecolor": "white",
           "landcolor": "#E5ECF6",
           "showlakes": true,
           "showland": true,
           "subunitcolor": "white"
          },
          "hoverlabel": {
           "align": "left"
          },
          "hovermode": "closest",
          "mapbox": {
           "style": "light"
          },
          "paper_bgcolor": "white",
          "plot_bgcolor": "#E5ECF6",
          "polar": {
           "angularaxis": {
            "gridcolor": "white",
            "linecolor": "white",
            "ticks": ""
           },
           "bgcolor": "#E5ECF6",
           "radialaxis": {
            "gridcolor": "white",
            "linecolor": "white",
            "ticks": ""
           }
          },
          "scene": {
           "xaxis": {
            "backgroundcolor": "#E5ECF6",
            "gridcolor": "white",
            "gridwidth": 2,
            "linecolor": "white",
            "showbackground": true,
            "ticks": "",
            "zerolinecolor": "white"
           },
           "yaxis": {
            "backgroundcolor": "#E5ECF6",
            "gridcolor": "white",
            "gridwidth": 2,
            "linecolor": "white",
            "showbackground": true,
            "ticks": "",
            "zerolinecolor": "white"
           },
           "zaxis": {
            "backgroundcolor": "#E5ECF6",
            "gridcolor": "white",
            "gridwidth": 2,
            "linecolor": "white",
            "showbackground": true,
            "ticks": "",
            "zerolinecolor": "white"
           }
          },
          "shapedefaults": {
           "line": {
            "color": "#2a3f5f"
           }
          },
          "ternary": {
           "aaxis": {
            "gridcolor": "white",
            "linecolor": "white",
            "ticks": ""
           },
           "baxis": {
            "gridcolor": "white",
            "linecolor": "white",
            "ticks": ""
           },
           "bgcolor": "#E5ECF6",
           "caxis": {
            "gridcolor": "white",
            "linecolor": "white",
            "ticks": ""
           }
          },
          "title": {
           "x": 0.05
          },
          "xaxis": {
           "automargin": true,
           "gridcolor": "white",
           "linecolor": "white",
           "ticks": "",
           "title": {
            "standoff": 15
           },
           "zerolinecolor": "white",
           "zerolinewidth": 2
          },
          "yaxis": {
           "automargin": true,
           "gridcolor": "white",
           "linecolor": "white",
           "ticks": "",
           "title": {
            "standoff": 15
           },
           "zerolinecolor": "white",
           "zerolinewidth": 2
          }
         }
        },
        "title": {
         "text": "Top 50 (Uncleaned) Word frequencies in the dataset"
        }
       }
      },
      "text/html": [
       "<div>                            <div id=\"02661e25-7c8a-4005-91fd-c60c85e8fc9a\" class=\"plotly-graph-div\" style=\"height:525px; width:100%;\"></div>            <script type=\"text/javascript\">                require([\"plotly\"], function(Plotly) {                    window.PLOTLYENV=window.PLOTLYENV || {};                                    if (document.getElementById(\"02661e25-7c8a-4005-91fd-c60c85e8fc9a\")) {                    Plotly.newPlot(                        \"02661e25-7c8a-4005-91fd-c60c85e8fc9a\",                        [{\"marker\":{\"color\":[48820,47288,45132,31470,31234,30376,28046,19244,16858,11852,11050,11028,10910,9299,9186,8785,8744,8715,7950,7927,7642,7521,6902,6902,6623,6560,6452,6381,6361,6299,6131,6071,5841,5722,5717,5537,5535,5421,5319,5247,5165,5125,5094,5064,4745,4690,4578,4539,4531,4488,4273,4186,4049,4043,4022,4015,3924,3893,3857,3818,3815,3782,3774,3757,3723,3644,3491,3490,3460,3431,3413,3361,3347,3283,3200,3149,3129,3107,3020,3001,2918,2902,2881,2877,2874,2851,2834,2834,2815,2768,2725,2682,2636,2635,2626,2621,2616,2610],\"colorscale\":[[0.0,\"rgb(0,0,131)\"],[0.2,\"rgb(0,60,170)\"],[0.4,\"rgb(5,255,255)\"],[0.6,\"rgb(255,255,0)\"],[0.8,\"rgb(250,0,0)\"],[1.0,\"rgb(128,0,0)\"]]},\"text\":\"Word counts\",\"x\":[\"to\",\"a\",\"/><br\",\"with\",\"is\",\"in\",\"of\",\"for\",\"<br\",\"you\",\"from\",\"space</b><br\",\"/><b>The\",\"/>-\",\"on\",\"are\",\"your\",\"The\",\"bedroom\",\"room\",\"&\",\"has\",\"or\",\"at\",\"located\",\"2\",\"this\",\"have\",\"private\",\"will\",\"all\",\"kitchen\",\"access\",\"walk\",\"/>The\",\"living\",\"Toronto\",\"as\",\"/><b>Guest\",\"access</b><br\",\"1\",\"be\",\"apartment\",\"home\",\"can\",\"bed\",\"space\",\"This\"],\"y\":[48820,47288,45132,31470,31234,30376,28046,19244,16858,11852,11050,11028,10910,9299,9186,8785,8744,8715,7950,7927,7642,7521,6902,6902,6623,6560,6452,6381,6361,6299,6131,6071,5841,5722,5717,5537,5535,5421,5319,5247,5165,5125,5094,5064,4745,4690,4578,4539],\"type\":\"bar\"}],                        {\"template\":{\"data\":{\"barpolar\":[{\"marker\":{\"line\":{\"color\":\"#E5ECF6\",\"width\":0.5},\"pattern\":{\"fillmode\":\"overlay\",\"size\":10,\"solidity\":0.2}},\"type\":\"barpolar\"}],\"bar\":[{\"error_x\":{\"color\":\"#2a3f5f\"},\"error_y\":{\"color\":\"#2a3f5f\"},\"marker\":{\"line\":{\"color\":\"#E5ECF6\",\"width\":0.5},\"pattern\":{\"fillmode\":\"overlay\",\"size\":10,\"solidity\":0.2}},\"type\":\"bar\"}],\"carpet\":[{\"aaxis\":{\"endlinecolor\":\"#2a3f5f\",\"gridcolor\":\"white\",\"linecolor\":\"white\",\"minorgridcolor\":\"white\",\"startlinecolor\":\"#2a3f5f\"},\"baxis\":{\"endlinecolor\":\"#2a3f5f\",\"gridcolor\":\"white\",\"linecolor\":\"white\",\"minorgridcolor\":\"white\",\"startlinecolor\":\"#2a3f5f\"},\"type\":\"carpet\"}],\"choropleth\":[{\"colorbar\":{\"outlinewidth\":0,\"ticks\":\"\"},\"type\":\"choropleth\"}],\"contourcarpet\":[{\"colorbar\":{\"outlinewidth\":0,\"ticks\":\"\"},\"type\":\"contourcarpet\"}],\"contour\":[{\"colorbar\":{\"outlinewidth\":0,\"ticks\":\"\"},\"colorscale\":[[0.0,\"#0d0887\"],[0.1111111111111111,\"#46039f\"],[0.2222222222222222,\"#7201a8\"],[0.3333333333333333,\"#9c179e\"],[0.4444444444444444,\"#bd3786\"],[0.5555555555555556,\"#d8576b\"],[0.6666666666666666,\"#ed7953\"],[0.7777777777777778,\"#fb9f3a\"],[0.8888888888888888,\"#fdca26\"],[1.0,\"#f0f921\"]],\"type\":\"contour\"}],\"heatmapgl\":[{\"colorbar\":{\"outlinewidth\":0,\"ticks\":\"\"},\"colorscale\":[[0.0,\"#0d0887\"],[0.1111111111111111,\"#46039f\"],[0.2222222222222222,\"#7201a8\"],[0.3333333333333333,\"#9c179e\"],[0.4444444444444444,\"#bd3786\"],[0.5555555555555556,\"#d8576b\"],[0.6666666666666666,\"#ed7953\"],[0.7777777777777778,\"#fb9f3a\"],[0.8888888888888888,\"#fdca26\"],[1.0,\"#f0f921\"]],\"type\":\"heatmapgl\"}],\"heatmap\":[{\"colorbar\":{\"outlinewidth\":0,\"ticks\":\"\"},\"colorscale\":[[0.0,\"#0d0887\"],[0.1111111111111111,\"#46039f\"],[0.2222222222222222,\"#7201a8\"],[0.3333333333333333,\"#9c179e\"],[0.4444444444444444,\"#bd3786\"],[0.5555555555555556,\"#d8576b\"],[0.6666666666666666,\"#ed7953\"],[0.7777777777777778,\"#fb9f3a\"],[0.8888888888888888,\"#fdca26\"],[1.0,\"#f0f921\"]],\"type\":\"heatmap\"}],\"histogram2dcontour\":[{\"colorbar\":{\"outlinewidth\":0,\"ticks\":\"\"},\"colorscale\":[[0.0,\"#0d0887\"],[0.1111111111111111,\"#46039f\"],[0.2222222222222222,\"#7201a8\"],[0.3333333333333333,\"#9c179e\"],[0.4444444444444444,\"#bd3786\"],[0.5555555555555556,\"#d8576b\"],[0.6666666666666666,\"#ed7953\"],[0.7777777777777778,\"#fb9f3a\"],[0.8888888888888888,\"#fdca26\"],[1.0,\"#f0f921\"]],\"type\":\"histogram2dcontour\"}],\"histogram2d\":[{\"colorbar\":{\"outlinewidth\":0,\"ticks\":\"\"},\"colorscale\":[[0.0,\"#0d0887\"],[0.1111111111111111,\"#46039f\"],[0.2222222222222222,\"#7201a8\"],[0.3333333333333333,\"#9c179e\"],[0.4444444444444444,\"#bd3786\"],[0.5555555555555556,\"#d8576b\"],[0.6666666666666666,\"#ed7953\"],[0.7777777777777778,\"#fb9f3a\"],[0.8888888888888888,\"#fdca26\"],[1.0,\"#f0f921\"]],\"type\":\"histogram2d\"}],\"histogram\":[{\"marker\":{\"pattern\":{\"fillmode\":\"overlay\",\"size\":10,\"solidity\":0.2}},\"type\":\"histogram\"}],\"mesh3d\":[{\"colorbar\":{\"outlinewidth\":0,\"ticks\":\"\"},\"type\":\"mesh3d\"}],\"parcoords\":[{\"line\":{\"colorbar\":{\"outlinewidth\":0,\"ticks\":\"\"}},\"type\":\"parcoords\"}],\"pie\":[{\"automargin\":true,\"type\":\"pie\"}],\"scatter3d\":[{\"line\":{\"colorbar\":{\"outlinewidth\":0,\"ticks\":\"\"}},\"marker\":{\"colorbar\":{\"outlinewidth\":0,\"ticks\":\"\"}},\"type\":\"scatter3d\"}],\"scattercarpet\":[{\"marker\":{\"colorbar\":{\"outlinewidth\":0,\"ticks\":\"\"}},\"type\":\"scattercarpet\"}],\"scattergeo\":[{\"marker\":{\"colorbar\":{\"outlinewidth\":0,\"ticks\":\"\"}},\"type\":\"scattergeo\"}],\"scattergl\":[{\"marker\":{\"colorbar\":{\"outlinewidth\":0,\"ticks\":\"\"}},\"type\":\"scattergl\"}],\"scattermapbox\":[{\"marker\":{\"colorbar\":{\"outlinewidth\":0,\"ticks\":\"\"}},\"type\":\"scattermapbox\"}],\"scatterpolargl\":[{\"marker\":{\"colorbar\":{\"outlinewidth\":0,\"ticks\":\"\"}},\"type\":\"scatterpolargl\"}],\"scatterpolar\":[{\"marker\":{\"colorbar\":{\"outlinewidth\":0,\"ticks\":\"\"}},\"type\":\"scatterpolar\"}],\"scatter\":[{\"marker\":{\"colorbar\":{\"outlinewidth\":0,\"ticks\":\"\"}},\"type\":\"scatter\"}],\"scatterternary\":[{\"marker\":{\"colorbar\":{\"outlinewidth\":0,\"ticks\":\"\"}},\"type\":\"scatterternary\"}],\"surface\":[{\"colorbar\":{\"outlinewidth\":0,\"ticks\":\"\"},\"colorscale\":[[0.0,\"#0d0887\"],[0.1111111111111111,\"#46039f\"],[0.2222222222222222,\"#7201a8\"],[0.3333333333333333,\"#9c179e\"],[0.4444444444444444,\"#bd3786\"],[0.5555555555555556,\"#d8576b\"],[0.6666666666666666,\"#ed7953\"],[0.7777777777777778,\"#fb9f3a\"],[0.8888888888888888,\"#fdca26\"],[1.0,\"#f0f921\"]],\"type\":\"surface\"}],\"table\":[{\"cells\":{\"fill\":{\"color\":\"#EBF0F8\"},\"line\":{\"color\":\"white\"}},\"header\":{\"fill\":{\"color\":\"#C8D4E3\"},\"line\":{\"color\":\"white\"}},\"type\":\"table\"}]},\"layout\":{\"annotationdefaults\":{\"arrowcolor\":\"#2a3f5f\",\"arrowhead\":0,\"arrowwidth\":1},\"autotypenumbers\":\"strict\",\"coloraxis\":{\"colorbar\":{\"outlinewidth\":0,\"ticks\":\"\"}},\"colorscale\":{\"diverging\":[[0,\"#8e0152\"],[0.1,\"#c51b7d\"],[0.2,\"#de77ae\"],[0.3,\"#f1b6da\"],[0.4,\"#fde0ef\"],[0.5,\"#f7f7f7\"],[0.6,\"#e6f5d0\"],[0.7,\"#b8e186\"],[0.8,\"#7fbc41\"],[0.9,\"#4d9221\"],[1,\"#276419\"]],\"sequential\":[[0.0,\"#0d0887\"],[0.1111111111111111,\"#46039f\"],[0.2222222222222222,\"#7201a8\"],[0.3333333333333333,\"#9c179e\"],[0.4444444444444444,\"#bd3786\"],[0.5555555555555556,\"#d8576b\"],[0.6666666666666666,\"#ed7953\"],[0.7777777777777778,\"#fb9f3a\"],[0.8888888888888888,\"#fdca26\"],[1.0,\"#f0f921\"]],\"sequentialminus\":[[0.0,\"#0d0887\"],[0.1111111111111111,\"#46039f\"],[0.2222222222222222,\"#7201a8\"],[0.3333333333333333,\"#9c179e\"],[0.4444444444444444,\"#bd3786\"],[0.5555555555555556,\"#d8576b\"],[0.6666666666666666,\"#ed7953\"],[0.7777777777777778,\"#fb9f3a\"],[0.8888888888888888,\"#fdca26\"],[1.0,\"#f0f921\"]]},\"colorway\":[\"#636efa\",\"#EF553B\",\"#00cc96\",\"#ab63fa\",\"#FFA15A\",\"#19d3f3\",\"#FF6692\",\"#B6E880\",\"#FF97FF\",\"#FECB52\"],\"font\":{\"color\":\"#2a3f5f\"},\"geo\":{\"bgcolor\":\"white\",\"lakecolor\":\"white\",\"landcolor\":\"#E5ECF6\",\"showlakes\":true,\"showland\":true,\"subunitcolor\":\"white\"},\"hoverlabel\":{\"align\":\"left\"},\"hovermode\":\"closest\",\"mapbox\":{\"style\":\"light\"},\"paper_bgcolor\":\"white\",\"plot_bgcolor\":\"#E5ECF6\",\"polar\":{\"angularaxis\":{\"gridcolor\":\"white\",\"linecolor\":\"white\",\"ticks\":\"\"},\"bgcolor\":\"#E5ECF6\",\"radialaxis\":{\"gridcolor\":\"white\",\"linecolor\":\"white\",\"ticks\":\"\"}},\"scene\":{\"xaxis\":{\"backgroundcolor\":\"#E5ECF6\",\"gridcolor\":\"white\",\"gridwidth\":2,\"linecolor\":\"white\",\"showbackground\":true,\"ticks\":\"\",\"zerolinecolor\":\"white\"},\"yaxis\":{\"backgroundcolor\":\"#E5ECF6\",\"gridcolor\":\"white\",\"gridwidth\":2,\"linecolor\":\"white\",\"showbackground\":true,\"ticks\":\"\",\"zerolinecolor\":\"white\"},\"zaxis\":{\"backgroundcolor\":\"#E5ECF6\",\"gridcolor\":\"white\",\"gridwidth\":2,\"linecolor\":\"white\",\"showbackground\":true,\"ticks\":\"\",\"zerolinecolor\":\"white\"}},\"shapedefaults\":{\"line\":{\"color\":\"#2a3f5f\"}},\"ternary\":{\"aaxis\":{\"gridcolor\":\"white\",\"linecolor\":\"white\",\"ticks\":\"\"},\"baxis\":{\"gridcolor\":\"white\",\"linecolor\":\"white\",\"ticks\":\"\"},\"bgcolor\":\"#E5ECF6\",\"caxis\":{\"gridcolor\":\"white\",\"linecolor\":\"white\",\"ticks\":\"\"}},\"title\":{\"x\":0.05},\"xaxis\":{\"automargin\":true,\"gridcolor\":\"white\",\"linecolor\":\"white\",\"ticks\":\"\",\"title\":{\"standoff\":15},\"zerolinecolor\":\"white\",\"zerolinewidth\":2},\"yaxis\":{\"automargin\":true,\"gridcolor\":\"white\",\"linecolor\":\"white\",\"ticks\":\"\",\"title\":{\"standoff\":15},\"zerolinecolor\":\"white\",\"zerolinewidth\":2}}},\"title\":{\"text\":\"Top 50 (Uncleaned) Word frequencies in the dataset\"}},                        {\"responsive\": true}                    ).then(function(){\n",
       "                            \n",
       "var gd = document.getElementById('02661e25-7c8a-4005-91fd-c60c85e8fc9a');\n",
       "var x = new MutationObserver(function (mutations, observer) {{\n",
       "        var display = window.getComputedStyle(gd).display;\n",
       "        if (!display || display === 'none') {{\n",
       "            console.log([gd, 'removed!']);\n",
       "            Plotly.purge(gd);\n",
       "            observer.disconnect();\n",
       "        }}\n",
       "}});\n",
       "\n",
       "// Listen for the removal of the full notebook cells\n",
       "var notebookContainer = gd.closest('#notebook-container');\n",
       "if (notebookContainer) {{\n",
       "    x.observe(notebookContainer, {childList: true});\n",
       "}}\n",
       "\n",
       "// Listen for the clearing of the current output cell\n",
       "var outputEl = gd.closest('.output');\n",
       "if (outputEl) {{\n",
       "    x.observe(outputEl, {childList: true});\n",
       "}}\n",
       "\n",
       "                        })                };                });            </script>        </div>"
      ]
     },
     "metadata": {},
     "output_type": "display_data"
    }
   ],
   "source": [
    "all_words = airbnb['description'].str.split(expand=True).unstack().value_counts()\n",
    "data = [go.Bar(\n",
    "            x = all_words.index.values[2:50],\n",
    "            y = all_words.values[2:50],\n",
    "            marker= dict(colorscale='Jet',\n",
    "                         color = all_words.values[2:100]\n",
    "                        ),\n",
    "            text='Word counts'\n",
    "    )]\n",
    "\n",
    "layout = go.Layout(\n",
    "    title='Top 50 (Uncleaned) Word frequencies in the dataset'\n",
    ")\n",
    "\n",
    "fig = go.Figure(data=data, layout=layout)\n",
    "\n",
    "py.iplot(fig, filename='basic-bar')"
   ]
  },
  {
   "cell_type": "markdown",
   "id": "0081e2b4",
   "metadata": {},
   "source": [
    "### Question 1: How does the amount of description for a listing affect the price of a listing?\n",
    "#### Length of description and Price \n",
    "lets get a quick check aboutour newly created features!"
   ]
  },
  {
   "cell_type": "code",
   "execution_count": 64,
   "id": "ba8c07c2",
   "metadata": {},
   "outputs": [
    {
     "data": {
      "text/plain": [
       "Text(0, 0.5, 'Price')"
      ]
     },
     "execution_count": 64,
     "metadata": {},
     "output_type": "execute_result"
    },
    {
     "data": {
      "image/png": "[encoded data removed]",
      "text/plain": [
       "<Figure size 640x480 with 1 Axes>"
      ]
     },
     "metadata": {},
     "output_type": "display_data"
    }
   ],
   "source": [
    "plt.scatter(airbnb[\"desc_len\"], airbnb[\"price\"])\n",
    "plt.title(\"Length of description to Price\")\n",
    "plt.xlabel(\"Length Of description\")\n",
    "plt.ylabel(\"Price\")"
   ]
  },
  {
   "cell_type": "markdown",
   "id": "6ad2098c",
   "metadata": {},
   "source": [
    "hmmm that didn't go as planned, it seem that interval of (0-150), (420-590) and (800-880) words has highter price"
   ]
  },
  {
   "cell_type": "markdown",
   "id": "77e66a81",
   "metadata": {},
   "source": [
    "#### Punctuation % to Price"
   ]
  },
  {
   "cell_type": "code",
   "execution_count": 32,
   "id": "ba54d802",
   "metadata": {},
   "outputs": [
    {
     "data": {
      "text/plain": [
       "Text(0, 0.5, 'Price')"
      ]
     },
     "execution_count": 32,
     "metadata": {},
     "output_type": "execute_result"
    },
    {
     "data": {
      "image/png": "[encoded data removed]",
      "text/plain": [
       "<Figure size 640x480 with 1 Axes>"
      ]
     },
     "metadata": {},
     "output_type": "display_data"
    }
   ],
   "source": [
    "plt.scatter(airbnb[\"punct%\"], airbnb[\"price\"])\n",
    "plt.title(\"Punct% to Price\")\n",
    "plt.xlabel(\"Punct%\")\n",
    "plt.ylabel(\"Price\")"
   ]
  },
  {
   "cell_type": "markdown",
   "id": "cf2fafa9",
   "metadata": {},
   "source": [
    "alright there's something! the lesser the punctuation % in the description the highter the prices at least relatively and to be more precisely it should be less than 20%."
   ]
  },
  {
   "cell_type": "markdown",
   "id": "b30b7cde",
   "metadata": {},
   "source": [
    "### Question 2: Can we predict the price of a property based on the given descriptions?"
   ]
  },
  {
   "cell_type": "code",
   "execution_count": 65,
   "id": "abcdf9ae",
   "metadata": {},
   "outputs": [
    {
     "name": "stderr",
     "output_type": "stream",
     "text": [
      "[nltk_data] Downloading package punkt to\n",
      "[nltk_data]     C:\\Users\\Admin\\AppData\\Roaming\\nltk_data...\n",
      "[nltk_data]   Package punkt is already up-to-date!\n",
      "[nltk_data] Downloading package wordnet to\n",
      "[nltk_data]     C:\\Users\\Admin\\AppData\\Roaming\\nltk_data...\n",
      "[nltk_data]   Package wordnet is already up-to-date!\n",
      "[nltk_data] Downloading package stopwords to\n",
      "[nltk_data]     C:\\Users\\Admin\\AppData\\Roaming\\nltk_data...\n",
      "[nltk_data]   Package stopwords is already up-to-date!\n"
     ]
    }
   ],
   "source": [
    "# Import all my NLTK libraries\n",
    "from nltk.tokenize import word_tokenize\n",
    "from nltk.stem import WordNetLemmatizer\n",
    "import nltk\n",
    "nltk.download(['punkt', 'wordnet', 'stopwords'])\n",
    "from nltk.tokenize import word_tokenize, sent_tokenize\n",
    "from sklearn.pipeline import Pipeline\n",
    "from sklearn.feature_extraction.text import CountVectorizer, TfidfTransformer\n",
    "from sklearn.ensemble import RandomForestRegressor, RandomForestClassifier\n",
    "from nltk.corpus import stopwords"
   ]
  },
  {
   "cell_type": "code",
   "execution_count": 119,
   "id": "4b3c16ab",
   "metadata": {},
   "outputs": [],
   "source": [
    "import string\n",
    "import re\n",
    "from nltk.corpus import stopwords\n",
    "from nltk.stem import PorterStemmer\n",
    "\n",
    "ps = PorterStemmer()\n",
    "\n",
    "def clean_text(text):\n",
    "    text = \"\".join([word.lower() for word in text if word not in string.punctuation])\n",
    "    tokens = re.split('\\W+', text)\n",
    "    text = [ps.stem(word) for word in tokens if word not in stopwords.words('english')]\n",
    "    return text\n",
    "\n",
    "# Let's first take a look at the clean data for visualization\n",
    "clean_airbnb[\"description\"] = airbnb['description'].apply(lambda x: clean_text(x))"
   ]
  },
  {
   "cell_type": "markdown",
   "id": "0603e2f9",
   "metadata": {},
   "source": [
    "Lets look at the top 50 cleaned data this time"
   ]
  },
  {
   "cell_type": "code",
   "execution_count": 121,
   "id": "61882b79",
   "metadata": {},
   "outputs": [
    {
     "data": {
      "application/javascript": [
       "\n",
       "        if (window._pyforest_update_imports_cell) { window._pyforest_update_imports_cell('import numpy as np\\nimport plotly.express as px'); }\n",
       "    "
      ],
      "text/plain": [
       "<IPython.core.display.Javascript object>"
      ]
     },
     "metadata": {},
     "output_type": "display_data"
    },
    {
     "data": {
      "application/vnd.plotly.v1+json": {
       "config": {
        "plotlyServerURL": "https://plot.ly"
       },
       "data": [
        {
         "alignmentgroup": "True",
         "hovertemplate": "Word=%{x}<br>Frequency=%{marker.color}<extra></extra>",
         "legendgroup": "",
         "marker": {
          "color": [
           63976,
           13806,
           13179,
           12386,
           11703,
           11028,
           11028,
           10957,
           10865,
           10075,
           10011,
           9700,
           7998,
           7631,
           7545,
           7435,
           7398,
           7272,
           7028,
           6934,
           6852,
           6816,
           6751,
           6463,
           6372,
           6139,
           6101,
           6025,
           5628,
           5560,
           5531,
           5373,
           5331,
           5292,
           5273,
           5258,
           5247,
           5202,
           5178,
           5085,
           5075,
           4903,
           4884,
           4801,
           4765,
           4698,
           4663,
           4605,
           4557,
           4523
          ],
          "coloraxis": "coloraxis",
          "pattern": {
           "shape": ""
          }
         },
         "name": "",
         "offsetgroup": "",
         "orientation": "v",
         "showlegend": false,
         "textposition": "auto",
         "type": "bar",
         "x": [
          "br",
          "bedroom",
          "room",
          "locat",
          "toronto",
          "bthe",
          "spacebbr",
          "walk",
          "kitchen",
          "park",
          "bed",
          "privat",
          "live",
          "2",
          "home",
          "downtown",
          "access",
          "bathroom",
          "minut",
          "space",
          "floor",
          "apart",
          "queen",
          "guest",
          "restaur",
          "1",
          "one",
          "hous",
          "stay",
          "comfort",
          "place",
          "fulli",
          "bguest",
          "area",
          "close",
          "subway",
          "accessbbr",
          "unit",
          "shop",
          "enjoy",
          "condo",
          "larg",
          "includ",
          "citi",
          "min",
          "station",
          "away",
          "share",
          "full",
          "spaciou"
         ],
         "xaxis": "x",
         "y": [
          63976,
          13806,
          13179,
          12386,
          11703,
          11028,
          11028,
          10957,
          10865,
          10075,
          10011,
          9700,
          7998,
          7631,
          7545,
          7435,
          7398,
          7272,
          7028,
          6934,
          6852,
          6816,
          6751,
          6463,
          6372,
          6139,
          6101,
          6025,
          5628,
          5560,
          5531,
          5373,
          5331,
          5292,
          5273,
          5258,
          5247,
          5202,
          5178,
          5085,
          5075,
          4903,
          4884,
          4801,
          4765,
          4698,
          4663,
          4605,
          4557,
          4523
         ],
         "yaxis": "y"
        }
       ],
       "layout": {
        "barmode": "relative",
        "coloraxis": {
         "colorbar": {
          "title": {
           "text": "Frequency"
          }
         },
         "colorscale": [
          [
           0,
           "#1f77b4"
          ],
          [
           0.1111111111111111,
           "#ff7f0e"
          ],
          [
           0.2222222222222222,
           "#2ca02c"
          ],
          [
           0.3333333333333333,
           "#d62728"
          ],
          [
           0.4444444444444444,
           "#9467bd"
          ],
          [
           0.5555555555555556,
           "#8c564b"
          ],
          [
           0.6666666666666666,
           "#e377c2"
          ],
          [
           0.7777777777777778,
           "#7f7f7f"
          ],
          [
           0.8888888888888888,
           "#bcbd22"
          ],
          [
           1,
           "#17becf"
          ]
         ]
        },
        "legend": {
         "tracegroupgap": 0
        },
        "template": {
         "data": {
          "bar": [
           {
            "error_x": {
             "color": "#2a3f5f"
            },
            "error_y": {
             "color": "#2a3f5f"
            },
            "marker": {
             "line": {
              "color": "#E5ECF6",
              "width": 0.5
             },
             "pattern": {
              "fillmode": "overlay",
              "size": 10,
              "solidity": 0.2
             }
            },
            "type": "bar"
           }
          ],
          "barpolar": [
           {
            "marker": {
             "line": {
              "color": "#E5ECF6",
              "width": 0.5
             },
             "pattern": {
              "fillmode": "overlay",
              "size": 10,
              "solidity": 0.2
             }
            },
            "type": "barpolar"
           }
          ],
          "carpet": [
           {
            "aaxis": {
             "endlinecolor": "#2a3f5f",
             "gridcolor": "white",
             "linecolor": "white",
             "minorgridcolor": "white",
             "startlinecolor": "#2a3f5f"
            },
            "baxis": {
             "endlinecolor": "#2a3f5f",
             "gridcolor": "white",
             "linecolor": "white",
             "minorgridcolor": "white",
             "startlinecolor": "#2a3f5f"
            },
            "type": "carpet"
           }
          ],
          "choropleth": [
           {
            "colorbar": {
             "outlinewidth": 0,
             "ticks": ""
            },
            "type": "choropleth"
           }
          ],
          "contour": [
           {
            "colorbar": {
             "outlinewidth": 0,
             "ticks": ""
            },
            "colorscale": [
             [
              0,
              "#0d0887"
             ],
             [
              0.1111111111111111,
              "#46039f"
             ],
             [
              0.2222222222222222,
              "#7201a8"
             ],
             [
              0.3333333333333333,
              "#9c179e"
             ],
             [
              0.4444444444444444,
              "#bd3786"
             ],
             [
              0.5555555555555556,
              "#d8576b"
             ],
             [
              0.6666666666666666,
              "#ed7953"
             ],
             [
              0.7777777777777778,
              "#fb9f3a"
             ],
             [
              0.8888888888888888,
              "#fdca26"
             ],
             [
              1,
              "#f0f921"
             ]
            ],
            "type": "contour"
           }
          ],
          "contourcarpet": [
           {
            "colorbar": {
             "outlinewidth": 0,
             "ticks": ""
            },
            "type": "contourcarpet"
           }
          ],
          "heatmap": [
           {
            "colorbar": {
             "outlinewidth": 0,
             "ticks": ""
            },
            "colorscale": [
             [
              0,
              "#0d0887"
             ],
             [
              0.1111111111111111,
              "#46039f"
             ],
             [
              0.2222222222222222,
              "#7201a8"
             ],
             [
              0.3333333333333333,
              "#9c179e"
             ],
             [
              0.4444444444444444,
              "#bd3786"
             ],
             [
              0.5555555555555556,
              "#d8576b"
             ],
             [
              0.6666666666666666,
              "#ed7953"
             ],
             [
              0.7777777777777778,
              "#fb9f3a"
             ],
             [
              0.8888888888888888,
              "#fdca26"
             ],
             [
              1,
              "#f0f921"
             ]
            ],
            "type": "heatmap"
           }
          ],
          "heatmapgl": [
           {
            "colorbar": {
             "outlinewidth": 0,
             "ticks": ""
            },
            "colorscale": [
             [
              0,
              "#0d0887"
             ],
             [
              0.1111111111111111,
              "#46039f"
             ],
             [
              0.2222222222222222,
              "#7201a8"
             ],
             [
              0.3333333333333333,
              "#9c179e"
             ],
             [
              0.4444444444444444,
              "#bd3786"
             ],
             [
              0.5555555555555556,
              "#d8576b"
             ],
             [
              0.6666666666666666,
              "#ed7953"
             ],
             [
              0.7777777777777778,
              "#fb9f3a"
             ],
             [
              0.8888888888888888,
              "#fdca26"
             ],
             [
              1,
              "#f0f921"
             ]
            ],
            "type": "heatmapgl"
           }
          ],
          "histogram": [
           {
            "marker": {
             "pattern": {
              "fillmode": "overlay",
              "size": 10,
              "solidity": 0.2
             }
            },
            "type": "histogram"
           }
          ],
          "histogram2d": [
           {
            "colorbar": {
             "outlinewidth": 0,
             "ticks": ""
            },
            "colorscale": [
             [
              0,
              "#0d0887"
             ],
             [
              0.1111111111111111,
              "#46039f"
             ],
             [
              0.2222222222222222,
              "#7201a8"
             ],
             [
              0.3333333333333333,
              "#9c179e"
             ],
             [
              0.4444444444444444,
              "#bd3786"
             ],
             [
              0.5555555555555556,
              "#d8576b"
             ],
             [
              0.6666666666666666,
              "#ed7953"
             ],
             [
              0.7777777777777778,
              "#fb9f3a"
             ],
             [
              0.8888888888888888,
              "#fdca26"
             ],
             [
              1,
              "#f0f921"
             ]
            ],
            "type": "histogram2d"
           }
          ],
          "histogram2dcontour": [
           {
            "colorbar": {
             "outlinewidth": 0,
             "ticks": ""
            },
            "colorscale": [
             [
              0,
              "#0d0887"
             ],
             [
              0.1111111111111111,
              "#46039f"
             ],
             [
              0.2222222222222222,
              "#7201a8"
             ],
             [
              0.3333333333333333,
              "#9c179e"
             ],
             [
              0.4444444444444444,
              "#bd3786"
             ],
             [
              0.5555555555555556,
              "#d8576b"
             ],
             [
              0.6666666666666666,
              "#ed7953"
             ],
             [
              0.7777777777777778,
              "#fb9f3a"
             ],
             [
              0.8888888888888888,
              "#fdca26"
             ],
             [
              1,
              "#f0f921"
             ]
            ],
            "type": "histogram2dcontour"
           }
          ],
          "mesh3d": [
           {
            "colorbar": {
             "outlinewidth": 0,
             "ticks": ""
            },
            "type": "mesh3d"
           }
          ],
          "parcoords": [
           {
            "line": {
             "colorbar": {
              "outlinewidth": 0,
              "ticks": ""
             }
            },
            "type": "parcoords"
           }
          ],
          "pie": [
           {
            "automargin": true,
            "type": "pie"
           }
          ],
          "scatter": [
           {
            "marker": {
             "colorbar": {
              "outlinewidth": 0,
              "ticks": ""
             }
            },
            "type": "scatter"
           }
          ],
          "scatter3d": [
           {
            "line": {
             "colorbar": {
              "outlinewidth": 0,
              "ticks": ""
             }
            },
            "marker": {
             "colorbar": {
              "outlinewidth": 0,
              "ticks": ""
             }
            },
            "type": "scatter3d"
           }
          ],
          "scattercarpet": [
           {
            "marker": {
             "colorbar": {
              "outlinewidth": 0,
              "ticks": ""
             }
            },
            "type": "scattercarpet"
           }
          ],
          "scattergeo": [
           {
            "marker": {
             "colorbar": {
              "outlinewidth": 0,
              "ticks": ""
             }
            },
            "type": "scattergeo"
           }
          ],
          "scattergl": [
           {
            "marker": {
             "colorbar": {
              "outlinewidth": 0,
              "ticks": ""
             }
            },
            "type": "scattergl"
           }
          ],
          "scattermapbox": [
           {
            "marker": {
             "colorbar": {
              "outlinewidth": 0,
              "ticks": ""
             }
            },
            "type": "scattermapbox"
           }
          ],
          "scatterpolar": [
           {
            "marker": {
             "colorbar": {
              "outlinewidth": 0,
              "ticks": ""
             }
            },
            "type": "scatterpolar"
           }
          ],
          "scatterpolargl": [
           {
            "marker": {
             "colorbar": {
              "outlinewidth": 0,
              "ticks": ""
             }
            },
            "type": "scatterpolargl"
           }
          ],
          "scatterternary": [
           {
            "marker": {
             "colorbar": {
              "outlinewidth": 0,
              "ticks": ""
             }
            },
            "type": "scatterternary"
           }
          ],
          "surface": [
           {
            "colorbar": {
             "outlinewidth": 0,
             "ticks": ""
            },
            "colorscale": [
             [
              0,
              "#0d0887"
             ],
             [
              0.1111111111111111,
              "#46039f"
             ],
             [
              0.2222222222222222,
              "#7201a8"
             ],
             [
              0.3333333333333333,
              "#9c179e"
             ],
             [
              0.4444444444444444,
              "#bd3786"
             ],
             [
              0.5555555555555556,
              "#d8576b"
             ],
             [
              0.6666666666666666,
              "#ed7953"
             ],
             [
              0.7777777777777778,
              "#fb9f3a"
             ],
             [
              0.8888888888888888,
              "#fdca26"
             ],
             [
              1,
              "#f0f921"
             ]
            ],
            "type": "surface"
           }
          ],
          "table": [
           {
            "cells": {
             "fill": {
              "color": "#EBF0F8"
             },
             "line": {
              "color": "white"
             }
            },
            "header": {
             "fill": {
              "color": "#C8D4E3"
             },
             "line": {
              "color": "white"
             }
            },
            "type": "table"
           }
          ]
         },
         "layout": {
          "annotationdefaults": {
           "arrowcolor": "#2a3f5f",
           "arrowhead": 0,
           "arrowwidth": 1
          },
          "autotypenumbers": "strict",
          "coloraxis": {
           "colorbar": {
            "outlinewidth": 0,
            "ticks": ""
           }
          },
          "colorscale": {
           "diverging": [
            [
             0,
             "#8e0152"
            ],
            [
             0.1,
             "#c51b7d"
            ],
            [
             0.2,
             "#de77ae"
            ],
            [
             0.3,
             "#f1b6da"
            ],
            [
             0.4,
             "#fde0ef"
            ],
            [
             0.5,
             "#f7f7f7"
            ],
            [
             0.6,
             "#e6f5d0"
            ],
            [
             0.7,
             "#b8e186"
            ],
            [
             0.8,
             "#7fbc41"
            ],
            [
             0.9,
             "#4d9221"
            ],
            [
             1,
             "#276419"
            ]
           ],
           "sequential": [
            [
             0,
             "#0d0887"
            ],
            [
             0.1111111111111111,
             "#46039f"
            ],
            [
             0.2222222222222222,
             "#7201a8"
            ],
            [
             0.3333333333333333,
             "#9c179e"
            ],
            [
             0.4444444444444444,
             "#bd3786"
            ],
            [
             0.5555555555555556,
             "#d8576b"
            ],
            [
             0.6666666666666666,
             "#ed7953"
            ],
            [
             0.7777777777777778,
             "#fb9f3a"
            ],
            [
             0.8888888888888888,
             "#fdca26"
            ],
            [
             1,
             "#f0f921"
            ]
           ],
           "sequentialminus": [
            [
             0,
             "#0d0887"
            ],
            [
             0.1111111111111111,
             "#46039f"
            ],
            [
             0.2222222222222222,
             "#7201a8"
            ],
            [
             0.3333333333333333,
             "#9c179e"
            ],
            [
             0.4444444444444444,
             "#bd3786"
            ],
            [
             0.5555555555555556,
             "#d8576b"
            ],
            [
             0.6666666666666666,
             "#ed7953"
            ],
            [
             0.7777777777777778,
             "#fb9f3a"
            ],
            [
             0.8888888888888888,
             "#fdca26"
            ],
            [
             1,
             "#f0f921"
            ]
           ]
          },
          "colorway": [
           "#636efa",
           "#EF553B",
           "#00cc96",
           "#ab63fa",
           "#FFA15A",
           "#19d3f3",
           "#FF6692",
           "#B6E880",
           "#FF97FF",
           "#FECB52"
          ],
          "font": {
           "color": "#2a3f5f"
          },
          "geo": {
           "bgcolor": "white",
           "lakecolor": "white",
           "landcolor": "#E5ECF6",
           "showlakes": true,
           "showland": true,
           "subunitcolor": "white"
          },
          "hoverlabel": {
           "align": "left"
          },
          "hovermode": "closest",
          "mapbox": {
           "style": "light"
          },
          "paper_bgcolor": "white",
          "plot_bgcolor": "#E5ECF6",
          "polar": {
           "angularaxis": {
            "gridcolor": "white",
            "linecolor": "white",
            "ticks": ""
           },
           "bgcolor": "#E5ECF6",
           "radialaxis": {
            "gridcolor": "white",
            "linecolor": "white",
            "ticks": ""
           }
          },
          "scene": {
           "xaxis": {
            "backgroundcolor": "#E5ECF6",
            "gridcolor": "white",
            "gridwidth": 2,
            "linecolor": "white",
            "showbackground": true,
            "ticks": "",
            "zerolinecolor": "white"
           },
           "yaxis": {
            "backgroundcolor": "#E5ECF6",
            "gridcolor": "white",
            "gridwidth": 2,
            "linecolor": "white",
            "showbackground": true,
            "ticks": "",
            "zerolinecolor": "white"
           },
           "zaxis": {
            "backgroundcolor": "#E5ECF6",
            "gridcolor": "white",
            "gridwidth": 2,
            "linecolor": "white",
            "showbackground": true,
            "ticks": "",
            "zerolinecolor": "white"
           }
          },
          "shapedefaults": {
           "line": {
            "color": "#2a3f5f"
           }
          },
          "ternary": {
           "aaxis": {
            "gridcolor": "white",
            "linecolor": "white",
            "ticks": ""
           },
           "baxis": {
            "gridcolor": "white",
            "linecolor": "white",
            "ticks": ""
           },
           "bgcolor": "#E5ECF6",
           "caxis": {
            "gridcolor": "white",
            "linecolor": "white",
            "ticks": ""
           }
          },
          "title": {
           "x": 0.05
          },
          "xaxis": {
           "automargin": true,
           "gridcolor": "white",
           "linecolor": "white",
           "ticks": "",
           "title": {
            "standoff": 15
           },
           "zerolinecolor": "white",
           "zerolinewidth": 2
          },
          "yaxis": {
           "automargin": true,
           "gridcolor": "white",
           "linecolor": "white",
           "ticks": "",
           "title": {
            "standoff": 15
           },
           "zerolinecolor": "white",
           "zerolinewidth": 2
          }
         }
        },
        "title": {
         "text": "Top 50 Word Frequencies (Clean Data)"
        },
        "xaxis": {
         "anchor": "y",
         "domain": [
          0,
          1
         ],
         "title": {
          "text": "Word"
         }
        },
        "yaxis": {
         "anchor": "x",
         "domain": [
          0,
          1
         ],
         "title": {
          "text": "Frequency"
         }
        }
       }
      },
      "text/html": [
       "<div>                            <div id=\"176825ce-850b-4732-9e64-298c638152a0\" class=\"plotly-graph-div\" style=\"height:525px; width:100%;\"></div>            <script type=\"text/javascript\">                require([\"plotly\"], function(Plotly) {                    window.PLOTLYENV=window.PLOTLYENV || {};                                    if (document.getElementById(\"176825ce-850b-4732-9e64-298c638152a0\")) {                    Plotly.newPlot(                        \"176825ce-850b-4732-9e64-298c638152a0\",                        [{\"alignmentgroup\":\"True\",\"hovertemplate\":\"Word=%{x}<br>Frequency=%{marker.color}<extra></extra>\",\"legendgroup\":\"\",\"marker\":{\"color\":[63976,13806,13179,12386,11703,11028,11028,10957,10865,10075,10011,9700,7998,7631,7545,7435,7398,7272,7028,6934,6852,6816,6751,6463,6372,6139,6101,6025,5628,5560,5531,5373,5331,5292,5273,5258,5247,5202,5178,5085,5075,4903,4884,4801,4765,4698,4663,4605,4557,4523],\"coloraxis\":\"coloraxis\",\"pattern\":{\"shape\":\"\"}},\"name\":\"\",\"offsetgroup\":\"\",\"orientation\":\"v\",\"showlegend\":false,\"textposition\":\"auto\",\"x\":[\"br\",\"bedroom\",\"room\",\"locat\",\"toronto\",\"bthe\",\"spacebbr\",\"walk\",\"kitchen\",\"park\",\"bed\",\"privat\",\"live\",\"2\",\"home\",\"downtown\",\"access\",\"bathroom\",\"minut\",\"space\",\"floor\",\"apart\",\"queen\",\"guest\",\"restaur\",\"1\",\"one\",\"hous\",\"stay\",\"comfort\",\"place\",\"fulli\",\"bguest\",\"area\",\"close\",\"subway\",\"accessbbr\",\"unit\",\"shop\",\"enjoy\",\"condo\",\"larg\",\"includ\",\"citi\",\"min\",\"station\",\"away\",\"share\",\"full\",\"spaciou\"],\"xaxis\":\"x\",\"y\":[63976,13806,13179,12386,11703,11028,11028,10957,10865,10075,10011,9700,7998,7631,7545,7435,7398,7272,7028,6934,6852,6816,6751,6463,6372,6139,6101,6025,5628,5560,5531,5373,5331,5292,5273,5258,5247,5202,5178,5085,5075,4903,4884,4801,4765,4698,4663,4605,4557,4523],\"yaxis\":\"y\",\"type\":\"bar\"}],                        {\"template\":{\"data\":{\"bar\":[{\"error_x\":{\"color\":\"#2a3f5f\"},\"error_y\":{\"color\":\"#2a3f5f\"},\"marker\":{\"line\":{\"color\":\"#E5ECF6\",\"width\":0.5},\"pattern\":{\"fillmode\":\"overlay\",\"size\":10,\"solidity\":0.2}},\"type\":\"bar\"}],\"barpolar\":[{\"marker\":{\"line\":{\"color\":\"#E5ECF6\",\"width\":0.5},\"pattern\":{\"fillmode\":\"overlay\",\"size\":10,\"solidity\":0.2}},\"type\":\"barpolar\"}],\"carpet\":[{\"aaxis\":{\"endlinecolor\":\"#2a3f5f\",\"gridcolor\":\"white\",\"linecolor\":\"white\",\"minorgridcolor\":\"white\",\"startlinecolor\":\"#2a3f5f\"},\"baxis\":{\"endlinecolor\":\"#2a3f5f\",\"gridcolor\":\"white\",\"linecolor\":\"white\",\"minorgridcolor\":\"white\",\"startlinecolor\":\"#2a3f5f\"},\"type\":\"carpet\"}],\"choropleth\":[{\"colorbar\":{\"outlinewidth\":0,\"ticks\":\"\"},\"type\":\"choropleth\"}],\"contour\":[{\"colorbar\":{\"outlinewidth\":0,\"ticks\":\"\"},\"colorscale\":[[0.0,\"#0d0887\"],[0.1111111111111111,\"#46039f\"],[0.2222222222222222,\"#7201a8\"],[0.3333333333333333,\"#9c179e\"],[0.4444444444444444,\"#bd3786\"],[0.5555555555555556,\"#d8576b\"],[0.6666666666666666,\"#ed7953\"],[0.7777777777777778,\"#fb9f3a\"],[0.8888888888888888,\"#fdca26\"],[1.0,\"#f0f921\"]],\"type\":\"contour\"}],\"contourcarpet\":[{\"colorbar\":{\"outlinewidth\":0,\"ticks\":\"\"},\"type\":\"contourcarpet\"}],\"heatmap\":[{\"colorbar\":{\"outlinewidth\":0,\"ticks\":\"\"},\"colorscale\":[[0.0,\"#0d0887\"],[0.1111111111111111,\"#46039f\"],[0.2222222222222222,\"#7201a8\"],[0.3333333333333333,\"#9c179e\"],[0.4444444444444444,\"#bd3786\"],[0.5555555555555556,\"#d8576b\"],[0.6666666666666666,\"#ed7953\"],[0.7777777777777778,\"#fb9f3a\"],[0.8888888888888888,\"#fdca26\"],[1.0,\"#f0f921\"]],\"type\":\"heatmap\"}],\"heatmapgl\":[{\"colorbar\":{\"outlinewidth\":0,\"ticks\":\"\"},\"colorscale\":[[0.0,\"#0d0887\"],[0.1111111111111111,\"#46039f\"],[0.2222222222222222,\"#7201a8\"],[0.3333333333333333,\"#9c179e\"],[0.4444444444444444,\"#bd3786\"],[0.5555555555555556,\"#d8576b\"],[0.6666666666666666,\"#ed7953\"],[0.7777777777777778,\"#fb9f3a\"],[0.8888888888888888,\"#fdca26\"],[1.0,\"#f0f921\"]],\"type\":\"heatmapgl\"}],\"histogram\":[{\"marker\":{\"pattern\":{\"fillmode\":\"overlay\",\"size\":10,\"solidity\":0.2}},\"type\":\"histogram\"}],\"histogram2d\":[{\"colorbar\":{\"outlinewidth\":0,\"ticks\":\"\"},\"colorscale\":[[0.0,\"#0d0887\"],[0.1111111111111111,\"#46039f\"],[0.2222222222222222,\"#7201a8\"],[0.3333333333333333,\"#9c179e\"],[0.4444444444444444,\"#bd3786\"],[0.5555555555555556,\"#d8576b\"],[0.6666666666666666,\"#ed7953\"],[0.7777777777777778,\"#fb9f3a\"],[0.8888888888888888,\"#fdca26\"],[1.0,\"#f0f921\"]],\"type\":\"histogram2d\"}],\"histogram2dcontour\":[{\"colorbar\":{\"outlinewidth\":0,\"ticks\":\"\"},\"colorscale\":[[0.0,\"#0d0887\"],[0.1111111111111111,\"#46039f\"],[0.2222222222222222,\"#7201a8\"],[0.3333333333333333,\"#9c179e\"],[0.4444444444444444,\"#bd3786\"],[0.5555555555555556,\"#d8576b\"],[0.6666666666666666,\"#ed7953\"],[0.7777777777777778,\"#fb9f3a\"],[0.8888888888888888,\"#fdca26\"],[1.0,\"#f0f921\"]],\"type\":\"histogram2dcontour\"}],\"mesh3d\":[{\"colorbar\":{\"outlinewidth\":0,\"ticks\":\"\"},\"type\":\"mesh3d\"}],\"parcoords\":[{\"line\":{\"colorbar\":{\"outlinewidth\":0,\"ticks\":\"\"}},\"type\":\"parcoords\"}],\"pie\":[{\"automargin\":true,\"type\":\"pie\"}],\"scatter\":[{\"marker\":{\"colorbar\":{\"outlinewidth\":0,\"ticks\":\"\"}},\"type\":\"scatter\"}],\"scatter3d\":[{\"line\":{\"colorbar\":{\"outlinewidth\":0,\"ticks\":\"\"}},\"marker\":{\"colorbar\":{\"outlinewidth\":0,\"ticks\":\"\"}},\"type\":\"scatter3d\"}],\"scattercarpet\":[{\"marker\":{\"colorbar\":{\"outlinewidth\":0,\"ticks\":\"\"}},\"type\":\"scattercarpet\"}],\"scattergeo\":[{\"marker\":{\"colorbar\":{\"outlinewidth\":0,\"ticks\":\"\"}},\"type\":\"scattergeo\"}],\"scattergl\":[{\"marker\":{\"colorbar\":{\"outlinewidth\":0,\"ticks\":\"\"}},\"type\":\"scattergl\"}],\"scattermapbox\":[{\"marker\":{\"colorbar\":{\"outlinewidth\":0,\"ticks\":\"\"}},\"type\":\"scattermapbox\"}],\"scatterpolar\":[{\"marker\":{\"colorbar\":{\"outlinewidth\":0,\"ticks\":\"\"}},\"type\":\"scatterpolar\"}],\"scatterpolargl\":[{\"marker\":{\"colorbar\":{\"outlinewidth\":0,\"ticks\":\"\"}},\"type\":\"scatterpolargl\"}],\"scatterternary\":[{\"marker\":{\"colorbar\":{\"outlinewidth\":0,\"ticks\":\"\"}},\"type\":\"scatterternary\"}],\"surface\":[{\"colorbar\":{\"outlinewidth\":0,\"ticks\":\"\"},\"colorscale\":[[0.0,\"#0d0887\"],[0.1111111111111111,\"#46039f\"],[0.2222222222222222,\"#7201a8\"],[0.3333333333333333,\"#9c179e\"],[0.4444444444444444,\"#bd3786\"],[0.5555555555555556,\"#d8576b\"],[0.6666666666666666,\"#ed7953\"],[0.7777777777777778,\"#fb9f3a\"],[0.8888888888888888,\"#fdca26\"],[1.0,\"#f0f921\"]],\"type\":\"surface\"}],\"table\":[{\"cells\":{\"fill\":{\"color\":\"#EBF0F8\"},\"line\":{\"color\":\"white\"}},\"header\":{\"fill\":{\"color\":\"#C8D4E3\"},\"line\":{\"color\":\"white\"}},\"type\":\"table\"}]},\"layout\":{\"annotationdefaults\":{\"arrowcolor\":\"#2a3f5f\",\"arrowhead\":0,\"arrowwidth\":1},\"autotypenumbers\":\"strict\",\"coloraxis\":{\"colorbar\":{\"outlinewidth\":0,\"ticks\":\"\"}},\"colorscale\":{\"diverging\":[[0,\"#8e0152\"],[0.1,\"#c51b7d\"],[0.2,\"#de77ae\"],[0.3,\"#f1b6da\"],[0.4,\"#fde0ef\"],[0.5,\"#f7f7f7\"],[0.6,\"#e6f5d0\"],[0.7,\"#b8e186\"],[0.8,\"#7fbc41\"],[0.9,\"#4d9221\"],[1,\"#276419\"]],\"sequential\":[[0.0,\"#0d0887\"],[0.1111111111111111,\"#46039f\"],[0.2222222222222222,\"#7201a8\"],[0.3333333333333333,\"#9c179e\"],[0.4444444444444444,\"#bd3786\"],[0.5555555555555556,\"#d8576b\"],[0.6666666666666666,\"#ed7953\"],[0.7777777777777778,\"#fb9f3a\"],[0.8888888888888888,\"#fdca26\"],[1.0,\"#f0f921\"]],\"sequentialminus\":[[0.0,\"#0d0887\"],[0.1111111111111111,\"#46039f\"],[0.2222222222222222,\"#7201a8\"],[0.3333333333333333,\"#9c179e\"],[0.4444444444444444,\"#bd3786\"],[0.5555555555555556,\"#d8576b\"],[0.6666666666666666,\"#ed7953\"],[0.7777777777777778,\"#fb9f3a\"],[0.8888888888888888,\"#fdca26\"],[1.0,\"#f0f921\"]]},\"colorway\":[\"#636efa\",\"#EF553B\",\"#00cc96\",\"#ab63fa\",\"#FFA15A\",\"#19d3f3\",\"#FF6692\",\"#B6E880\",\"#FF97FF\",\"#FECB52\"],\"font\":{\"color\":\"#2a3f5f\"},\"geo\":{\"bgcolor\":\"white\",\"lakecolor\":\"white\",\"landcolor\":\"#E5ECF6\",\"showlakes\":true,\"showland\":true,\"subunitcolor\":\"white\"},\"hoverlabel\":{\"align\":\"left\"},\"hovermode\":\"closest\",\"mapbox\":{\"style\":\"light\"},\"paper_bgcolor\":\"white\",\"plot_bgcolor\":\"#E5ECF6\",\"polar\":{\"angularaxis\":{\"gridcolor\":\"white\",\"linecolor\":\"white\",\"ticks\":\"\"},\"bgcolor\":\"#E5ECF6\",\"radialaxis\":{\"gridcolor\":\"white\",\"linecolor\":\"white\",\"ticks\":\"\"}},\"scene\":{\"xaxis\":{\"backgroundcolor\":\"#E5ECF6\",\"gridcolor\":\"white\",\"gridwidth\":2,\"linecolor\":\"white\",\"showbackground\":true,\"ticks\":\"\",\"zerolinecolor\":\"white\"},\"yaxis\":{\"backgroundcolor\":\"#E5ECF6\",\"gridcolor\":\"white\",\"gridwidth\":2,\"linecolor\":\"white\",\"showbackground\":true,\"ticks\":\"\",\"zerolinecolor\":\"white\"},\"zaxis\":{\"backgroundcolor\":\"#E5ECF6\",\"gridcolor\":\"white\",\"gridwidth\":2,\"linecolor\":\"white\",\"showbackground\":true,\"ticks\":\"\",\"zerolinecolor\":\"white\"}},\"shapedefaults\":{\"line\":{\"color\":\"#2a3f5f\"}},\"ternary\":{\"aaxis\":{\"gridcolor\":\"white\",\"linecolor\":\"white\",\"ticks\":\"\"},\"baxis\":{\"gridcolor\":\"white\",\"linecolor\":\"white\",\"ticks\":\"\"},\"bgcolor\":\"#E5ECF6\",\"caxis\":{\"gridcolor\":\"white\",\"linecolor\":\"white\",\"ticks\":\"\"}},\"title\":{\"x\":0.05},\"xaxis\":{\"automargin\":true,\"gridcolor\":\"white\",\"linecolor\":\"white\",\"ticks\":\"\",\"title\":{\"standoff\":15},\"zerolinecolor\":\"white\",\"zerolinewidth\":2},\"yaxis\":{\"automargin\":true,\"gridcolor\":\"white\",\"linecolor\":\"white\",\"ticks\":\"\",\"title\":{\"standoff\":15},\"zerolinecolor\":\"white\",\"zerolinewidth\":2}}},\"xaxis\":{\"anchor\":\"y\",\"domain\":[0.0,1.0],\"title\":{\"text\":\"Word\"}},\"yaxis\":{\"anchor\":\"x\",\"domain\":[0.0,1.0],\"title\":{\"text\":\"Frequency\"}},\"coloraxis\":{\"colorbar\":{\"title\":{\"text\":\"Frequency\"}},\"colorscale\":[[0.0,\"#1f77b4\"],[0.1111111111111111,\"#ff7f0e\"],[0.2222222222222222,\"#2ca02c\"],[0.3333333333333333,\"#d62728\"],[0.4444444444444444,\"#9467bd\"],[0.5555555555555556,\"#8c564b\"],[0.6666666666666666,\"#e377c2\"],[0.7777777777777778,\"#7f7f7f\"],[0.8888888888888888,\"#bcbd22\"],[1.0,\"#17becf\"]]},\"legend\":{\"tracegroupgap\":0},\"title\":{\"text\":\"Top 50 Word Frequencies (Clean Data)\"},\"barmode\":\"relative\"},                        {\"responsive\": true}                    ).then(function(){\n",
       "                            \n",
       "var gd = document.getElementById('176825ce-850b-4732-9e64-298c638152a0');\n",
       "var x = new MutationObserver(function (mutations, observer) {{\n",
       "        var display = window.getComputedStyle(gd).display;\n",
       "        if (!display || display === 'none') {{\n",
       "            console.log([gd, 'removed!']);\n",
       "            Plotly.purge(gd);\n",
       "            observer.disconnect();\n",
       "        }}\n",
       "}});\n",
       "\n",
       "// Listen for the removal of the full notebook cells\n",
       "var notebookContainer = gd.closest('#notebook-container');\n",
       "if (notebookContainer) {{\n",
       "    x.observe(notebookContainer, {childList: true});\n",
       "}}\n",
       "\n",
       "// Listen for the clearing of the current output cell\n",
       "var outputEl = gd.closest('.output');\n",
       "if (outputEl) {{\n",
       "    x.observe(outputEl, {childList: true});\n",
       "}}\n",
       "\n",
       "                        })                };                });            </script>        </div>"
      ]
     },
     "metadata": {},
     "output_type": "display_data"
    }
   ],
   "source": [
    "cleaned_words = [word for sublist in clean_airbnb['description'] for word in sublist] # lets extract words\n",
    "\n",
    "# Count the word frequencies\n",
    "word_freq = Counter(cleaned_words)\n",
    "\n",
    "# Get the top 50 most common words and their frequencies\n",
    "top_50_words = dict(word_freq.most_common(50))\n",
    "\n",
    "# Create a DataFrame from the top 50 word frequencies\n",
    "df_top_words = pd.DataFrame(list(top_50_words.items()), columns=['Word', 'Frequency'])\n",
    "\n",
    "#custom colors for the bar chart\n",
    "colors = ['#1f77b4', '#ff7f0e', '#2ca02c', '#d62728', '#9467bd', '#8c564b', '#e377c2', '#7f7f7f', '#bcbd22', '#17becf']\n",
    "fig = px.bar(df_top_words, x='Word', y='Frequency', title='Top 50 Word Frequencies (Clean Data)',\n",
    "             color='Frequency', color_continuous_scale=colors)\n",
    "fig.show()"
   ]
  },
  {
   "cell_type": "markdown",
   "id": "aede704c",
   "metadata": {},
   "source": [
    "### Now that we have take a look at the words and all lets move forwad with splitting the datatset"
   ]
  },
  {
   "cell_type": "code",
   "execution_count": 139,
   "id": "d58cd5d3",
   "metadata": {},
   "outputs": [],
   "source": [
    "from sklearn.model_selection import train_test_split # split is 80:20\n",
    "\n",
    "X_train, X_test, y_train, y_test = train_test_split(airbnb[['description', 'desc_len', 'punct%']], airbnb['price'], test_size=0.2)"
   ]
  },
  {
   "cell_type": "code",
   "execution_count": 143,
   "id": "46dec7dc",
   "metadata": {},
   "outputs": [
    {
     "data": {
      "text/html": [
       "<div>\n",
       "<style scoped>\n",
       "    .dataframe tbody tr th:only-of-type {\n",
       "        vertical-align: middle;\n",
       "    }\n",
       "\n",
       "    .dataframe tbody tr th {\n",
       "        vertical-align: top;\n",
       "    }\n",
       "\n",
       "    .dataframe thead th {\n",
       "        text-align: right;\n",
       "    }\n",
       "</style>\n",
       "<table border=\"1\" class=\"dataframe\">\n",
       "  <thead>\n",
       "    <tr style=\"text-align: right;\">\n",
       "      <th></th>\n",
       "      <th>desc_len</th>\n",
       "      <th>punct%</th>\n",
       "      <th>0</th>\n",
       "      <th>1</th>\n",
       "      <th>2</th>\n",
       "      <th>3</th>\n",
       "      <th>4</th>\n",
       "      <th>5</th>\n",
       "      <th>6</th>\n",
       "      <th>7</th>\n",
       "      <th>...</th>\n",
       "      <th>24772</th>\n",
       "      <th>24773</th>\n",
       "      <th>24774</th>\n",
       "      <th>24775</th>\n",
       "      <th>24776</th>\n",
       "      <th>24777</th>\n",
       "      <th>24778</th>\n",
       "      <th>24779</th>\n",
       "      <th>24780</th>\n",
       "      <th>24781</th>\n",
       "    </tr>\n",
       "  </thead>\n",
       "  <tbody>\n",
       "    <tr>\n",
       "      <th>0</th>\n",
       "      <td>423</td>\n",
       "      <td>4.0</td>\n",
       "      <td>0.0</td>\n",
       "      <td>0.0</td>\n",
       "      <td>0.0</td>\n",
       "      <td>0.0</td>\n",
       "      <td>0.0</td>\n",
       "      <td>0.0</td>\n",
       "      <td>0.0</td>\n",
       "      <td>0.0</td>\n",
       "      <td>...</td>\n",
       "      <td>0.0</td>\n",
       "      <td>0.0</td>\n",
       "      <td>0.0</td>\n",
       "      <td>0.0</td>\n",
       "      <td>0.0</td>\n",
       "      <td>0.0</td>\n",
       "      <td>0.0</td>\n",
       "      <td>0.0</td>\n",
       "      <td>0.0</td>\n",
       "      <td>0.0</td>\n",
       "    </tr>\n",
       "    <tr>\n",
       "      <th>1</th>\n",
       "      <td>370</td>\n",
       "      <td>14.6</td>\n",
       "      <td>0.0</td>\n",
       "      <td>0.0</td>\n",
       "      <td>0.0</td>\n",
       "      <td>0.0</td>\n",
       "      <td>0.0</td>\n",
       "      <td>0.0</td>\n",
       "      <td>0.0</td>\n",
       "      <td>0.0</td>\n",
       "      <td>...</td>\n",
       "      <td>0.0</td>\n",
       "      <td>0.0</td>\n",
       "      <td>0.0</td>\n",
       "      <td>0.0</td>\n",
       "      <td>0.0</td>\n",
       "      <td>0.0</td>\n",
       "      <td>0.0</td>\n",
       "      <td>0.0</td>\n",
       "      <td>0.0</td>\n",
       "      <td>0.0</td>\n",
       "    </tr>\n",
       "    <tr>\n",
       "      <th>2</th>\n",
       "      <td>35</td>\n",
       "      <td>2.9</td>\n",
       "      <td>0.0</td>\n",
       "      <td>0.0</td>\n",
       "      <td>0.0</td>\n",
       "      <td>0.0</td>\n",
       "      <td>0.0</td>\n",
       "      <td>0.0</td>\n",
       "      <td>0.0</td>\n",
       "      <td>0.0</td>\n",
       "      <td>...</td>\n",
       "      <td>0.0</td>\n",
       "      <td>0.0</td>\n",
       "      <td>0.0</td>\n",
       "      <td>0.0</td>\n",
       "      <td>0.0</td>\n",
       "      <td>0.0</td>\n",
       "      <td>0.0</td>\n",
       "      <td>0.0</td>\n",
       "      <td>0.0</td>\n",
       "      <td>0.0</td>\n",
       "    </tr>\n",
       "    <tr>\n",
       "      <th>3</th>\n",
       "      <td>427</td>\n",
       "      <td>12.6</td>\n",
       "      <td>0.0</td>\n",
       "      <td>0.0</td>\n",
       "      <td>0.0</td>\n",
       "      <td>0.0</td>\n",
       "      <td>0.0</td>\n",
       "      <td>0.0</td>\n",
       "      <td>0.0</td>\n",
       "      <td>0.0</td>\n",
       "      <td>...</td>\n",
       "      <td>0.0</td>\n",
       "      <td>0.0</td>\n",
       "      <td>0.0</td>\n",
       "      <td>0.0</td>\n",
       "      <td>0.0</td>\n",
       "      <td>0.0</td>\n",
       "      <td>0.0</td>\n",
       "      <td>0.0</td>\n",
       "      <td>0.0</td>\n",
       "      <td>0.0</td>\n",
       "    </tr>\n",
       "    <tr>\n",
       "      <th>4</th>\n",
       "      <td>343</td>\n",
       "      <td>3.8</td>\n",
       "      <td>0.0</td>\n",
       "      <td>0.0</td>\n",
       "      <td>0.0</td>\n",
       "      <td>0.0</td>\n",
       "      <td>0.0</td>\n",
       "      <td>0.0</td>\n",
       "      <td>0.0</td>\n",
       "      <td>0.0</td>\n",
       "      <td>...</td>\n",
       "      <td>0.0</td>\n",
       "      <td>0.0</td>\n",
       "      <td>0.0</td>\n",
       "      <td>0.0</td>\n",
       "      <td>0.0</td>\n",
       "      <td>0.0</td>\n",
       "      <td>0.0</td>\n",
       "      <td>0.0</td>\n",
       "      <td>0.0</td>\n",
       "      <td>0.0</td>\n",
       "    </tr>\n",
       "  </tbody>\n",
       "</table>\n",
       "<p>5 rows × 24784 columns</p>\n",
       "</div>"
      ],
      "text/plain": [
       "   desc_len  punct%    0    1    2    3    4    5    6    7  ...  24772  \\\n",
       "0       423     4.0  0.0  0.0  0.0  0.0  0.0  0.0  0.0  0.0  ...    0.0   \n",
       "1       370    14.6  0.0  0.0  0.0  0.0  0.0  0.0  0.0  0.0  ...    0.0   \n",
       "2        35     2.9  0.0  0.0  0.0  0.0  0.0  0.0  0.0  0.0  ...    0.0   \n",
       "3       427    12.6  0.0  0.0  0.0  0.0  0.0  0.0  0.0  0.0  ...    0.0   \n",
       "4       343     3.8  0.0  0.0  0.0  0.0  0.0  0.0  0.0  0.0  ...    0.0   \n",
       "\n",
       "   24773  24774  24775  24776  24777  24778  24779  24780  24781  \n",
       "0    0.0    0.0    0.0    0.0    0.0    0.0    0.0    0.0    0.0  \n",
       "1    0.0    0.0    0.0    0.0    0.0    0.0    0.0    0.0    0.0  \n",
       "2    0.0    0.0    0.0    0.0    0.0    0.0    0.0    0.0    0.0  \n",
       "3    0.0    0.0    0.0    0.0    0.0    0.0    0.0    0.0    0.0  \n",
       "4    0.0    0.0    0.0    0.0    0.0    0.0    0.0    0.0    0.0  \n",
       "\n",
       "[5 rows x 24784 columns]"
      ]
     },
     "execution_count": 143,
     "metadata": {},
     "output_type": "execute_result"
    }
   ],
   "source": [
    "tfidf_vect = TfidfVectorizer(analyzer=clean_text)\n",
    "tfidf_vect_fit = tfidf_vect.fit(X_train['description'])\n",
    "\n",
    "tfidf_train = tfidf_vect_fit.transform(X_train['description'])\n",
    "tfidf_test = tfidf_vect_fit.transform(X_test['description'])\n",
    "\n",
    "X_train_vect = pd.concat([X_train[['desc_len', 'punct%']].reset_index(drop=True), \n",
    "           pd.DataFrame(tfidf_train.toarray())], axis=1)\n",
    "X_test_vect = pd.concat([X_test[['desc_len', 'punct%']].reset_index(drop=True), \n",
    "           pd.DataFrame(tfidf_test.toarray())], axis=1)\n",
    "\n",
    "X_train_vect.head()"
   ]
  },
  {
   "cell_type": "markdown",
   "id": "ed5189ee",
   "metadata": {},
   "source": [
    "### Machine learning"
   ]
  },
  {
   "cell_type": "code",
   "execution_count": 167,
   "id": "77af06bf",
   "metadata": {},
   "outputs": [],
   "source": [
    "from sklearn.ensemble import RandomForestRegressor, GradientBoostingRegressor\n",
    "from sklearn.model_selection import cross_val_score\n",
    "from sklearn.metrics import mean_squared_error\n",
    "from sklearn.metrics import r2_score\n",
    "import numpy as np"
   ]
  },
  {
   "cell_type": "markdown",
   "id": "fb088a0a",
   "metadata": {},
   "source": [
    "### Random Forest Regressor"
   ]
  },
  {
   "cell_type": "code",
   "execution_count": 171,
   "id": "ad5579c1",
   "metadata": {},
   "outputs": [
    {
     "name": "stdout",
     "output_type": "stream",
     "text": [
      "Random Forest Regression - Train RMSE scores: [1275.62750138  224.79119311  174.58924188]\n",
      "Random Forest Regression - Mean Train RMSE: 558.3359787916073\n",
      "Random Forest Regression - Test RMSE: 421.4731770107212\n"
     ]
    }
   ],
   "source": [
    "# Convert column names to string\n",
    "X_train_vect.columns = X_train_vect.columns.astype(str)\n",
    "X_test_vect.columns = X_test_vect.columns.astype(str)\n",
    "\n",
    "# Random Forest Regression\n",
    "rf_regressor = RandomForestRegressor(n_jobs=-1)\n",
    "rf_rmse_train_scores = np.sqrt(-cross_val_score(rf_regressor, X_train_vect[0:5000], y_train[0:5000], cv=3, scoring='neg_mean_squared_error'))\n",
    "rf_regressor.fit(X_train_vect[0:5000], y_train[0:5000])\n",
    "rf_predictions = rf_regressor.predict(X_test_vect)\n",
    "rf_rmse_test = np.sqrt(mean_squared_error(y_test, rf_predictions))\n",
    "\n",
    "# Evaluate Random Forest Regression\n",
    "print(\"Random Forest Regression - Train RMSE scores:\", rf_rmse_train_scores)\n",
    "print(\"Random Forest Regression - Mean Train RMSE:\", rf_rmse_train_scores.mean())\n",
    "print(\"Random Forest Regression - Test RMSE:\", rf_rmse_test)"
   ]
  },
  {
   "cell_type": "code",
   "execution_count": 172,
   "id": "efa4837e",
   "metadata": {},
   "outputs": [
    {
     "name": "stdout",
     "output_type": "stream",
     "text": [
      "Random Forest Regression - Train R2 scores: [0.00092838 0.11361768 0.04856697]\n",
      "Random Forest Regression - Mean Train R2: 0.05437100942874221\n",
      "Random Forest Regression - Test R2: -0.2847825729141993\n"
     ]
    }
   ],
   "source": [
    "# Random Forest Regression\n",
    "rf_r2_train_scores = cross_val_score(rf_regressor, X_train_vect[0:5000], y_train[0:5000], cv=3, scoring='r2')\n",
    "rf_regressor.fit(X_train_vect[0:5000], y_train[0:5000])\n",
    "rf_predictions = rf_regressor.predict(X_test_vect)\n",
    "rf_r2_test = r2_score(y_test, rf_predictions)\n",
    "\n",
    "# Evaluate Random Forest Regression\n",
    "print(\"Random Forest Regression - Train R2 scores:\", rf_r2_train_scores)\n",
    "print(\"Random Forest Regression - Mean Train R2:\", rf_r2_train_scores.mean())\n",
    "print(\"Random Forest Regression - Test R2:\", rf_r2_test)"
   ]
  },
  {
   "cell_type": "code",
   "execution_count": null,
   "id": "4172cc35",
   "metadata": {},
   "outputs": [],
   "source": []
  },
  {
   "cell_type": "code",
   "execution_count": null,
   "id": "eff9fe9b",
   "metadata": {},
   "outputs": [],
   "source": []
  }
 ],
 "metadata": {
  "kernelspec": {
   "display_name": "Python 3 (ipykernel)",
   "language": "python",
   "name": "python3"
  },
  "language_info": {
   "codemirror_mode": {
    "name": "ipython",
    "version": 3
   },
   "file_extension": ".py",
   "mimetype": "text/x-python",
   "name": "python",
   "nbconvert_exporter": "python",
   "pygments_lexer": "ipython3",
   "version": "3.8.13"
  }
 },
 "nbformat": 4,
 "nbformat_minor": 5
}
